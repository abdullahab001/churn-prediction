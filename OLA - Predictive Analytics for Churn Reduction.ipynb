{
 "cells": [
  {
   "cell_type": "markdown",
   "id": "566e0d38",
   "metadata": {},
   "source": [
    "* MMMM-YY : Reporting Date (Monthly)\n",
    "* Driver_ID : Unique id for drivers\n",
    "* Age : Age of the driver\n",
    "* Gender : Gender of the driver – Male : 0, Female: 1\n",
    "* City : City Code of the driver\n",
    "* Education_Level : Education level – 0 for 10+ ,1 for 12+ ,2 for graduate\n",
    "* Income : Monthly average Income of the driver\n",
    "* Date Of Joining : Joining date for the driver\n",
    "* LastWorkingDate : Last date of working for the driver\n",
    "* Joining Designation : Designation of the driver at the time of joining\n",
    "* Grade : Grade of the driver at the time of reporting\n",
    "* Total Business Value : The total business value acquired by the driver in a month (negative business indicates cancellation/refund or car EMI adjustments)\n",
    "* Quarterly Rating : Quarterly rating of the driver: 1,2,3,4,5 (higher is better)"
   ]
  },
  {
   "cell_type": "markdown",
   "id": "7ce6b93b",
   "metadata": {},
   "source": [
    "# 1) Import the dataset and do usual exploratory analysis steps like checking the structure & characteristics of the dataset."
   ]
  },
  {
   "cell_type": "code",
   "execution_count": 1,
   "id": "d30b6074",
   "metadata": {},
   "outputs": [
    {
     "data": {
      "text/html": [
       "<div>\n",
       "<style scoped>\n",
       "    .dataframe tbody tr th:only-of-type {\n",
       "        vertical-align: middle;\n",
       "    }\n",
       "\n",
       "    .dataframe tbody tr th {\n",
       "        vertical-align: top;\n",
       "    }\n",
       "\n",
       "    .dataframe thead th {\n",
       "        text-align: right;\n",
       "    }\n",
       "</style>\n",
       "<table border=\"1\" class=\"dataframe\">\n",
       "  <thead>\n",
       "    <tr style=\"text-align: right;\">\n",
       "      <th></th>\n",
       "      <th>Unnamed: 0</th>\n",
       "      <th>MMM-YY</th>\n",
       "      <th>Driver_ID</th>\n",
       "      <th>Age</th>\n",
       "      <th>Gender</th>\n",
       "      <th>City</th>\n",
       "      <th>Education_Level</th>\n",
       "      <th>Income</th>\n",
       "      <th>Dateofjoining</th>\n",
       "      <th>LastWorkingDate</th>\n",
       "      <th>Joining Designation</th>\n",
       "      <th>Grade</th>\n",
       "      <th>Total Business Value</th>\n",
       "      <th>Quarterly Rating</th>\n",
       "    </tr>\n",
       "  </thead>\n",
       "  <tbody>\n",
       "    <tr>\n",
       "      <th>0</th>\n",
       "      <td>0</td>\n",
       "      <td>01/01/19</td>\n",
       "      <td>1</td>\n",
       "      <td>28.0</td>\n",
       "      <td>0.0</td>\n",
       "      <td>C23</td>\n",
       "      <td>2</td>\n",
       "      <td>57387</td>\n",
       "      <td>24/12/18</td>\n",
       "      <td>NaN</td>\n",
       "      <td>1</td>\n",
       "      <td>1</td>\n",
       "      <td>2381060</td>\n",
       "      <td>2</td>\n",
       "    </tr>\n",
       "    <tr>\n",
       "      <th>1</th>\n",
       "      <td>1</td>\n",
       "      <td>02/01/19</td>\n",
       "      <td>1</td>\n",
       "      <td>28.0</td>\n",
       "      <td>0.0</td>\n",
       "      <td>C23</td>\n",
       "      <td>2</td>\n",
       "      <td>57387</td>\n",
       "      <td>24/12/18</td>\n",
       "      <td>NaN</td>\n",
       "      <td>1</td>\n",
       "      <td>1</td>\n",
       "      <td>-665480</td>\n",
       "      <td>2</td>\n",
       "    </tr>\n",
       "    <tr>\n",
       "      <th>2</th>\n",
       "      <td>2</td>\n",
       "      <td>03/01/19</td>\n",
       "      <td>1</td>\n",
       "      <td>28.0</td>\n",
       "      <td>0.0</td>\n",
       "      <td>C23</td>\n",
       "      <td>2</td>\n",
       "      <td>57387</td>\n",
       "      <td>24/12/18</td>\n",
       "      <td>03/11/19</td>\n",
       "      <td>1</td>\n",
       "      <td>1</td>\n",
       "      <td>0</td>\n",
       "      <td>2</td>\n",
       "    </tr>\n",
       "    <tr>\n",
       "      <th>3</th>\n",
       "      <td>3</td>\n",
       "      <td>11/01/20</td>\n",
       "      <td>2</td>\n",
       "      <td>31.0</td>\n",
       "      <td>0.0</td>\n",
       "      <td>C7</td>\n",
       "      <td>2</td>\n",
       "      <td>67016</td>\n",
       "      <td>11/06/20</td>\n",
       "      <td>NaN</td>\n",
       "      <td>2</td>\n",
       "      <td>2</td>\n",
       "      <td>0</td>\n",
       "      <td>1</td>\n",
       "    </tr>\n",
       "    <tr>\n",
       "      <th>4</th>\n",
       "      <td>4</td>\n",
       "      <td>12/01/20</td>\n",
       "      <td>2</td>\n",
       "      <td>31.0</td>\n",
       "      <td>0.0</td>\n",
       "      <td>C7</td>\n",
       "      <td>2</td>\n",
       "      <td>67016</td>\n",
       "      <td>11/06/20</td>\n",
       "      <td>NaN</td>\n",
       "      <td>2</td>\n",
       "      <td>2</td>\n",
       "      <td>0</td>\n",
       "      <td>1</td>\n",
       "    </tr>\n",
       "    <tr>\n",
       "      <th>...</th>\n",
       "      <td>...</td>\n",
       "      <td>...</td>\n",
       "      <td>...</td>\n",
       "      <td>...</td>\n",
       "      <td>...</td>\n",
       "      <td>...</td>\n",
       "      <td>...</td>\n",
       "      <td>...</td>\n",
       "      <td>...</td>\n",
       "      <td>...</td>\n",
       "      <td>...</td>\n",
       "      <td>...</td>\n",
       "      <td>...</td>\n",
       "      <td>...</td>\n",
       "    </tr>\n",
       "    <tr>\n",
       "      <th>19099</th>\n",
       "      <td>19099</td>\n",
       "      <td>08/01/20</td>\n",
       "      <td>2788</td>\n",
       "      <td>30.0</td>\n",
       "      <td>0.0</td>\n",
       "      <td>C27</td>\n",
       "      <td>2</td>\n",
       "      <td>70254</td>\n",
       "      <td>06/08/20</td>\n",
       "      <td>NaN</td>\n",
       "      <td>2</td>\n",
       "      <td>2</td>\n",
       "      <td>740280</td>\n",
       "      <td>3</td>\n",
       "    </tr>\n",
       "    <tr>\n",
       "      <th>19100</th>\n",
       "      <td>19100</td>\n",
       "      <td>09/01/20</td>\n",
       "      <td>2788</td>\n",
       "      <td>30.0</td>\n",
       "      <td>0.0</td>\n",
       "      <td>C27</td>\n",
       "      <td>2</td>\n",
       "      <td>70254</td>\n",
       "      <td>06/08/20</td>\n",
       "      <td>NaN</td>\n",
       "      <td>2</td>\n",
       "      <td>2</td>\n",
       "      <td>448370</td>\n",
       "      <td>3</td>\n",
       "    </tr>\n",
       "    <tr>\n",
       "      <th>19101</th>\n",
       "      <td>19101</td>\n",
       "      <td>10/01/20</td>\n",
       "      <td>2788</td>\n",
       "      <td>30.0</td>\n",
       "      <td>0.0</td>\n",
       "      <td>C27</td>\n",
       "      <td>2</td>\n",
       "      <td>70254</td>\n",
       "      <td>06/08/20</td>\n",
       "      <td>NaN</td>\n",
       "      <td>2</td>\n",
       "      <td>2</td>\n",
       "      <td>0</td>\n",
       "      <td>2</td>\n",
       "    </tr>\n",
       "    <tr>\n",
       "      <th>19102</th>\n",
       "      <td>19102</td>\n",
       "      <td>11/01/20</td>\n",
       "      <td>2788</td>\n",
       "      <td>30.0</td>\n",
       "      <td>0.0</td>\n",
       "      <td>C27</td>\n",
       "      <td>2</td>\n",
       "      <td>70254</td>\n",
       "      <td>06/08/20</td>\n",
       "      <td>NaN</td>\n",
       "      <td>2</td>\n",
       "      <td>2</td>\n",
       "      <td>200420</td>\n",
       "      <td>2</td>\n",
       "    </tr>\n",
       "    <tr>\n",
       "      <th>19103</th>\n",
       "      <td>19103</td>\n",
       "      <td>12/01/20</td>\n",
       "      <td>2788</td>\n",
       "      <td>30.0</td>\n",
       "      <td>0.0</td>\n",
       "      <td>C27</td>\n",
       "      <td>2</td>\n",
       "      <td>70254</td>\n",
       "      <td>06/08/20</td>\n",
       "      <td>NaN</td>\n",
       "      <td>2</td>\n",
       "      <td>2</td>\n",
       "      <td>411480</td>\n",
       "      <td>2</td>\n",
       "    </tr>\n",
       "  </tbody>\n",
       "</table>\n",
       "<p>19104 rows × 14 columns</p>\n",
       "</div>"
      ],
      "text/plain": [
       "       Unnamed: 0    MMM-YY  Driver_ID   Age  Gender City  Education_Level  \\\n",
       "0               0  01/01/19          1  28.0     0.0  C23                2   \n",
       "1               1  02/01/19          1  28.0     0.0  C23                2   \n",
       "2               2  03/01/19          1  28.0     0.0  C23                2   \n",
       "3               3  11/01/20          2  31.0     0.0   C7                2   \n",
       "4               4  12/01/20          2  31.0     0.0   C7                2   \n",
       "...           ...       ...        ...   ...     ...  ...              ...   \n",
       "19099       19099  08/01/20       2788  30.0     0.0  C27                2   \n",
       "19100       19100  09/01/20       2788  30.0     0.0  C27                2   \n",
       "19101       19101  10/01/20       2788  30.0     0.0  C27                2   \n",
       "19102       19102  11/01/20       2788  30.0     0.0  C27                2   \n",
       "19103       19103  12/01/20       2788  30.0     0.0  C27                2   \n",
       "\n",
       "       Income Dateofjoining LastWorkingDate  Joining Designation  Grade  \\\n",
       "0       57387      24/12/18             NaN                    1      1   \n",
       "1       57387      24/12/18             NaN                    1      1   \n",
       "2       57387      24/12/18        03/11/19                    1      1   \n",
       "3       67016      11/06/20             NaN                    2      2   \n",
       "4       67016      11/06/20             NaN                    2      2   \n",
       "...       ...           ...             ...                  ...    ...   \n",
       "19099   70254      06/08/20             NaN                    2      2   \n",
       "19100   70254      06/08/20             NaN                    2      2   \n",
       "19101   70254      06/08/20             NaN                    2      2   \n",
       "19102   70254      06/08/20             NaN                    2      2   \n",
       "19103   70254      06/08/20             NaN                    2      2   \n",
       "\n",
       "       Total Business Value  Quarterly Rating  \n",
       "0                   2381060                 2  \n",
       "1                   -665480                 2  \n",
       "2                         0                 2  \n",
       "3                         0                 1  \n",
       "4                         0                 1  \n",
       "...                     ...               ...  \n",
       "19099                740280                 3  \n",
       "19100                448370                 3  \n",
       "19101                     0                 2  \n",
       "19102                200420                 2  \n",
       "19103                411480                 2  \n",
       "\n",
       "[19104 rows x 14 columns]"
      ]
     },
     "execution_count": 1,
     "metadata": {},
     "output_type": "execute_result"
    }
   ],
   "source": [
    "import pandas as pd\n",
    "import numpy as np\n",
    "ola = pd.read_csv('ola_driver_scaler.csv')\n",
    "ola"
   ]
  },
  {
   "cell_type": "code",
   "execution_count": 2,
   "id": "ec91e06c",
   "metadata": {},
   "outputs": [
    {
     "name": "stdout",
     "output_type": "stream",
     "text": [
      "<class 'pandas.core.frame.DataFrame'>\n",
      "RangeIndex: 19104 entries, 0 to 19103\n",
      "Data columns (total 14 columns):\n",
      " #   Column                Non-Null Count  Dtype  \n",
      "---  ------                --------------  -----  \n",
      " 0   Unnamed: 0            19104 non-null  int64  \n",
      " 1   MMM-YY                19104 non-null  object \n",
      " 2   Driver_ID             19104 non-null  int64  \n",
      " 3   Age                   19043 non-null  float64\n",
      " 4   Gender                19052 non-null  float64\n",
      " 5   City                  19104 non-null  object \n",
      " 6   Education_Level       19104 non-null  int64  \n",
      " 7   Income                19104 non-null  int64  \n",
      " 8   Dateofjoining         19104 non-null  object \n",
      " 9   LastWorkingDate       1616 non-null   object \n",
      " 10  Joining Designation   19104 non-null  int64  \n",
      " 11  Grade                 19104 non-null  int64  \n",
      " 12  Total Business Value  19104 non-null  int64  \n",
      " 13  Quarterly Rating      19104 non-null  int64  \n",
      "dtypes: float64(2), int64(8), object(4)\n",
      "memory usage: 2.0+ MB\n"
     ]
    }
   ],
   "source": [
    "ola.info()"
   ]
  },
  {
   "cell_type": "code",
   "execution_count": 3,
   "id": "f2d2dcd3",
   "metadata": {},
   "outputs": [
    {
     "data": {
      "text/html": [
       "<div>\n",
       "<style scoped>\n",
       "    .dataframe tbody tr th:only-of-type {\n",
       "        vertical-align: middle;\n",
       "    }\n",
       "\n",
       "    .dataframe tbody tr th {\n",
       "        vertical-align: top;\n",
       "    }\n",
       "\n",
       "    .dataframe thead th {\n",
       "        text-align: right;\n",
       "    }\n",
       "</style>\n",
       "<table border=\"1\" class=\"dataframe\">\n",
       "  <thead>\n",
       "    <tr style=\"text-align: right;\">\n",
       "      <th></th>\n",
       "      <th>Unnamed: 0</th>\n",
       "      <th>Driver_ID</th>\n",
       "      <th>Age</th>\n",
       "      <th>Gender</th>\n",
       "      <th>Education_Level</th>\n",
       "      <th>Income</th>\n",
       "      <th>Joining Designation</th>\n",
       "      <th>Grade</th>\n",
       "      <th>Total Business Value</th>\n",
       "      <th>Quarterly Rating</th>\n",
       "    </tr>\n",
       "  </thead>\n",
       "  <tbody>\n",
       "    <tr>\n",
       "      <th>count</th>\n",
       "      <td>19104.000000</td>\n",
       "      <td>19104.000000</td>\n",
       "      <td>19043.000000</td>\n",
       "      <td>19052.000000</td>\n",
       "      <td>19104.000000</td>\n",
       "      <td>19104.000000</td>\n",
       "      <td>19104.000000</td>\n",
       "      <td>19104.000000</td>\n",
       "      <td>1.910400e+04</td>\n",
       "      <td>19104.000000</td>\n",
       "    </tr>\n",
       "    <tr>\n",
       "      <th>mean</th>\n",
       "      <td>9551.500000</td>\n",
       "      <td>1415.591133</td>\n",
       "      <td>34.668435</td>\n",
       "      <td>0.418749</td>\n",
       "      <td>1.021671</td>\n",
       "      <td>65652.025126</td>\n",
       "      <td>1.690536</td>\n",
       "      <td>2.252670</td>\n",
       "      <td>5.716621e+05</td>\n",
       "      <td>2.008899</td>\n",
       "    </tr>\n",
       "    <tr>\n",
       "      <th>std</th>\n",
       "      <td>5514.994107</td>\n",
       "      <td>810.705321</td>\n",
       "      <td>6.257912</td>\n",
       "      <td>0.493367</td>\n",
       "      <td>0.800167</td>\n",
       "      <td>30914.515344</td>\n",
       "      <td>0.836984</td>\n",
       "      <td>1.026512</td>\n",
       "      <td>1.128312e+06</td>\n",
       "      <td>1.009832</td>\n",
       "    </tr>\n",
       "    <tr>\n",
       "      <th>min</th>\n",
       "      <td>0.000000</td>\n",
       "      <td>1.000000</td>\n",
       "      <td>21.000000</td>\n",
       "      <td>0.000000</td>\n",
       "      <td>0.000000</td>\n",
       "      <td>10747.000000</td>\n",
       "      <td>1.000000</td>\n",
       "      <td>1.000000</td>\n",
       "      <td>-6.000000e+06</td>\n",
       "      <td>1.000000</td>\n",
       "    </tr>\n",
       "    <tr>\n",
       "      <th>25%</th>\n",
       "      <td>4775.750000</td>\n",
       "      <td>710.000000</td>\n",
       "      <td>30.000000</td>\n",
       "      <td>0.000000</td>\n",
       "      <td>0.000000</td>\n",
       "      <td>42383.000000</td>\n",
       "      <td>1.000000</td>\n",
       "      <td>1.000000</td>\n",
       "      <td>0.000000e+00</td>\n",
       "      <td>1.000000</td>\n",
       "    </tr>\n",
       "    <tr>\n",
       "      <th>50%</th>\n",
       "      <td>9551.500000</td>\n",
       "      <td>1417.000000</td>\n",
       "      <td>34.000000</td>\n",
       "      <td>0.000000</td>\n",
       "      <td>1.000000</td>\n",
       "      <td>60087.000000</td>\n",
       "      <td>1.000000</td>\n",
       "      <td>2.000000</td>\n",
       "      <td>2.500000e+05</td>\n",
       "      <td>2.000000</td>\n",
       "    </tr>\n",
       "    <tr>\n",
       "      <th>75%</th>\n",
       "      <td>14327.250000</td>\n",
       "      <td>2137.000000</td>\n",
       "      <td>39.000000</td>\n",
       "      <td>1.000000</td>\n",
       "      <td>2.000000</td>\n",
       "      <td>83969.000000</td>\n",
       "      <td>2.000000</td>\n",
       "      <td>3.000000</td>\n",
       "      <td>6.997000e+05</td>\n",
       "      <td>3.000000</td>\n",
       "    </tr>\n",
       "    <tr>\n",
       "      <th>max</th>\n",
       "      <td>19103.000000</td>\n",
       "      <td>2788.000000</td>\n",
       "      <td>58.000000</td>\n",
       "      <td>1.000000</td>\n",
       "      <td>2.000000</td>\n",
       "      <td>188418.000000</td>\n",
       "      <td>5.000000</td>\n",
       "      <td>5.000000</td>\n",
       "      <td>3.374772e+07</td>\n",
       "      <td>4.000000</td>\n",
       "    </tr>\n",
       "  </tbody>\n",
       "</table>\n",
       "</div>"
      ],
      "text/plain": [
       "         Unnamed: 0     Driver_ID           Age        Gender  \\\n",
       "count  19104.000000  19104.000000  19043.000000  19052.000000   \n",
       "mean    9551.500000   1415.591133     34.668435      0.418749   \n",
       "std     5514.994107    810.705321      6.257912      0.493367   \n",
       "min        0.000000      1.000000     21.000000      0.000000   \n",
       "25%     4775.750000    710.000000     30.000000      0.000000   \n",
       "50%     9551.500000   1417.000000     34.000000      0.000000   \n",
       "75%    14327.250000   2137.000000     39.000000      1.000000   \n",
       "max    19103.000000   2788.000000     58.000000      1.000000   \n",
       "\n",
       "       Education_Level         Income  Joining Designation         Grade  \\\n",
       "count     19104.000000   19104.000000         19104.000000  19104.000000   \n",
       "mean          1.021671   65652.025126             1.690536      2.252670   \n",
       "std           0.800167   30914.515344             0.836984      1.026512   \n",
       "min           0.000000   10747.000000             1.000000      1.000000   \n",
       "25%           0.000000   42383.000000             1.000000      1.000000   \n",
       "50%           1.000000   60087.000000             1.000000      2.000000   \n",
       "75%           2.000000   83969.000000             2.000000      3.000000   \n",
       "max           2.000000  188418.000000             5.000000      5.000000   \n",
       "\n",
       "       Total Business Value  Quarterly Rating  \n",
       "count          1.910400e+04      19104.000000  \n",
       "mean           5.716621e+05          2.008899  \n",
       "std            1.128312e+06          1.009832  \n",
       "min           -6.000000e+06          1.000000  \n",
       "25%            0.000000e+00          1.000000  \n",
       "50%            2.500000e+05          2.000000  \n",
       "75%            6.997000e+05          3.000000  \n",
       "max            3.374772e+07          4.000000  "
      ]
     },
     "execution_count": 3,
     "metadata": {},
     "output_type": "execute_result"
    }
   ],
   "source": [
    "ola.describe()"
   ]
  },
  {
   "cell_type": "markdown",
   "id": "c5f7f360",
   "metadata": {},
   "source": [
    "#### Observing the dataset we can interpret few things about the data:\n",
    "    * Unnamed column is just the row number so it can be eliminated\n",
    "    * We have drivers from the Age 21 to 58 and 75% of the drivers are below 39\n",
    "    * Mean income of the drivers are 65K+ which is a good amount, may be churn rate may depend on this as well\n",
    "    * Mean age of the drivers are 34"
   ]
  },
  {
   "cell_type": "markdown",
   "id": "108cc070",
   "metadata": {},
   "source": [
    "# 2) Convert date-like features to their respective data type\n"
   ]
  },
  {
   "cell_type": "code",
   "execution_count": 4,
   "id": "e1ce4415",
   "metadata": {},
   "outputs": [
    {
     "data": {
      "text/plain": [
       "Index(['Unnamed: 0', 'MMM-YY', 'Driver_ID', 'Age', 'Gender', 'City',\n",
       "       'Education_Level', 'Income', 'Dateofjoining', 'LastWorkingDate',\n",
       "       'Joining Designation', 'Grade', 'Total Business Value',\n",
       "       'Quarterly Rating'],\n",
       "      dtype='object')"
      ]
     },
     "execution_count": 4,
     "metadata": {},
     "output_type": "execute_result"
    }
   ],
   "source": [
    "ola.columns"
   ]
  },
  {
   "cell_type": "code",
   "execution_count": 5,
   "id": "441bb72e",
   "metadata": {},
   "outputs": [],
   "source": [
    "ola['MMM-YY'] = pd.to_datetime(ola['MMM-YY'], format='%m/%d/%y')\n",
    "ola['Dateofjoining'] = pd.to_datetime(ola['Dateofjoining'],format='%d/%m/%y')\n",
    "ola['LastWorkingDate'] = pd.to_datetime(ola['LastWorkingDate'],format='%d/%m/%y')\n",
    "ola.drop(columns=['Unnamed: 0'],inplace=True)"
   ]
  },
  {
   "cell_type": "markdown",
   "id": "622eb63c",
   "metadata": {},
   "source": [
    "# 3) Check for missing values and Prepare data for KNN Imputation\n"
   ]
  },
  {
   "cell_type": "code",
   "execution_count": 6,
   "id": "31cec249",
   "metadata": {},
   "outputs": [],
   "source": [
    "data_nums = ola.select_dtypes(np.number)\n",
    "data_nums.drop(columns=['Driver_ID'],inplace=True)\n",
    "\n",
    "from sklearn.impute import KNNImputer\n",
    "\n",
    "imputer = KNNImputer(n_neighbors=5)\n",
    "\n",
    "# Perform imputation\n",
    "imputer.fit(data_nums)\n",
    "\n",
    "df_imputed = imputer.transform(data_nums)\n",
    "imp = pd.DataFrame(df_imputed)\n",
    "imp.columns = data_nums.columns"
   ]
  },
  {
   "cell_type": "code",
   "execution_count": 7,
   "id": "f4b48d8c",
   "metadata": {},
   "outputs": [
    {
     "data": {
      "text/plain": [
       "Age                     0\n",
       "Gender                  0\n",
       "Education_Level         0\n",
       "Income                  0\n",
       "Joining Designation     0\n",
       "Grade                   0\n",
       "Total Business Value    0\n",
       "Quarterly Rating        0\n",
       "dtype: int64"
      ]
     },
     "execution_count": 7,
     "metadata": {},
     "output_type": "execute_result"
    }
   ],
   "source": [
    "imp.isnull().sum()"
   ]
  },
  {
   "cell_type": "code",
   "execution_count": 8,
   "id": "2061812a",
   "metadata": {},
   "outputs": [
    {
     "data": {
      "text/plain": [
       "['MMM-YY', 'Driver_ID', 'City', 'Dateofjoining', 'LastWorkingDate']"
      ]
     },
     "execution_count": 8,
     "metadata": {},
     "output_type": "execute_result"
    }
   ],
   "source": [
    "remaining_columns = [x for x in ola.columns if x not in imp.columns]\n",
    "remaining_columns"
   ]
  },
  {
   "cell_type": "code",
   "execution_count": 9,
   "id": "da24a79d",
   "metadata": {},
   "outputs": [],
   "source": [
    "df = pd.concat([imp,ola[remaining_columns]],axis=1)"
   ]
  },
  {
   "cell_type": "code",
   "execution_count": 10,
   "id": "c12f8f60",
   "metadata": {},
   "outputs": [
    {
     "data": {
      "text/html": [
       "<div>\n",
       "<style scoped>\n",
       "    .dataframe tbody tr th:only-of-type {\n",
       "        vertical-align: middle;\n",
       "    }\n",
       "\n",
       "    .dataframe tbody tr th {\n",
       "        vertical-align: top;\n",
       "    }\n",
       "\n",
       "    .dataframe thead th {\n",
       "        text-align: right;\n",
       "    }\n",
       "</style>\n",
       "<table border=\"1\" class=\"dataframe\">\n",
       "  <thead>\n",
       "    <tr style=\"text-align: right;\">\n",
       "      <th></th>\n",
       "      <th>Age</th>\n",
       "      <th>Gender</th>\n",
       "      <th>Education_Level</th>\n",
       "      <th>Income</th>\n",
       "      <th>Joining Designation</th>\n",
       "      <th>Grade</th>\n",
       "      <th>Total Business Value</th>\n",
       "      <th>Quarterly Rating</th>\n",
       "      <th>MMM-YY</th>\n",
       "      <th>Driver_ID</th>\n",
       "      <th>City</th>\n",
       "      <th>Dateofjoining</th>\n",
       "      <th>LastWorkingDate</th>\n",
       "    </tr>\n",
       "  </thead>\n",
       "  <tbody>\n",
       "    <tr>\n",
       "      <th>0</th>\n",
       "      <td>28.0</td>\n",
       "      <td>0.0</td>\n",
       "      <td>2.0</td>\n",
       "      <td>57387.0</td>\n",
       "      <td>1.0</td>\n",
       "      <td>1.0</td>\n",
       "      <td>2381060.0</td>\n",
       "      <td>2.0</td>\n",
       "      <td>2019-01-01</td>\n",
       "      <td>1</td>\n",
       "      <td>C23</td>\n",
       "      <td>2018-12-24</td>\n",
       "      <td>NaT</td>\n",
       "    </tr>\n",
       "    <tr>\n",
       "      <th>1</th>\n",
       "      <td>28.0</td>\n",
       "      <td>0.0</td>\n",
       "      <td>2.0</td>\n",
       "      <td>57387.0</td>\n",
       "      <td>1.0</td>\n",
       "      <td>1.0</td>\n",
       "      <td>-665480.0</td>\n",
       "      <td>2.0</td>\n",
       "      <td>2019-02-01</td>\n",
       "      <td>1</td>\n",
       "      <td>C23</td>\n",
       "      <td>2018-12-24</td>\n",
       "      <td>NaT</td>\n",
       "    </tr>\n",
       "    <tr>\n",
       "      <th>2</th>\n",
       "      <td>28.0</td>\n",
       "      <td>0.0</td>\n",
       "      <td>2.0</td>\n",
       "      <td>57387.0</td>\n",
       "      <td>1.0</td>\n",
       "      <td>1.0</td>\n",
       "      <td>0.0</td>\n",
       "      <td>2.0</td>\n",
       "      <td>2019-03-01</td>\n",
       "      <td>1</td>\n",
       "      <td>C23</td>\n",
       "      <td>2018-12-24</td>\n",
       "      <td>2019-11-03</td>\n",
       "    </tr>\n",
       "  </tbody>\n",
       "</table>\n",
       "</div>"
      ],
      "text/plain": [
       "    Age  Gender  Education_Level   Income  Joining Designation  Grade  \\\n",
       "0  28.0     0.0              2.0  57387.0                  1.0    1.0   \n",
       "1  28.0     0.0              2.0  57387.0                  1.0    1.0   \n",
       "2  28.0     0.0              2.0  57387.0                  1.0    1.0   \n",
       "\n",
       "   Total Business Value  Quarterly Rating     MMM-YY  Driver_ID City  \\\n",
       "0             2381060.0               2.0 2019-01-01          1  C23   \n",
       "1             -665480.0               2.0 2019-02-01          1  C23   \n",
       "2                   0.0               2.0 2019-03-01          1  C23   \n",
       "\n",
       "  Dateofjoining LastWorkingDate  \n",
       "0    2018-12-24             NaT  \n",
       "1    2018-12-24             NaT  \n",
       "2    2018-12-24      2019-11-03  "
      ]
     },
     "execution_count": 10,
     "metadata": {},
     "output_type": "execute_result"
    }
   ],
   "source": [
    "df[df['Driver_ID']==1]"
   ]
  },
  {
   "cell_type": "code",
   "execution_count": 11,
   "id": "f7f9f366",
   "metadata": {},
   "outputs": [
    {
     "data": {
      "text/html": [
       "<div>\n",
       "<style scoped>\n",
       "    .dataframe tbody tr th:only-of-type {\n",
       "        vertical-align: middle;\n",
       "    }\n",
       "\n",
       "    .dataframe tbody tr th {\n",
       "        vertical-align: top;\n",
       "    }\n",
       "\n",
       "    .dataframe thead th {\n",
       "        text-align: right;\n",
       "    }\n",
       "</style>\n",
       "<table border=\"1\" class=\"dataframe\">\n",
       "  <thead>\n",
       "    <tr style=\"text-align: right;\">\n",
       "      <th></th>\n",
       "      <th>MMM-YY</th>\n",
       "      <th>Driver_ID</th>\n",
       "      <th>Age</th>\n",
       "      <th>Gender</th>\n",
       "      <th>City</th>\n",
       "      <th>Education_Level</th>\n",
       "      <th>Income</th>\n",
       "      <th>Dateofjoining</th>\n",
       "      <th>LastWorkingDate</th>\n",
       "      <th>Joining Designation</th>\n",
       "      <th>Grade</th>\n",
       "      <th>Total Business Value</th>\n",
       "      <th>Quarterly Rating</th>\n",
       "    </tr>\n",
       "  </thead>\n",
       "  <tbody>\n",
       "    <tr>\n",
       "      <th>0</th>\n",
       "      <td>2019-01-01</td>\n",
       "      <td>1</td>\n",
       "      <td>28.0</td>\n",
       "      <td>0.0</td>\n",
       "      <td>C23</td>\n",
       "      <td>2</td>\n",
       "      <td>57387</td>\n",
       "      <td>2018-12-24</td>\n",
       "      <td>NaT</td>\n",
       "      <td>1</td>\n",
       "      <td>1</td>\n",
       "      <td>2381060</td>\n",
       "      <td>2</td>\n",
       "    </tr>\n",
       "    <tr>\n",
       "      <th>1</th>\n",
       "      <td>2019-02-01</td>\n",
       "      <td>1</td>\n",
       "      <td>28.0</td>\n",
       "      <td>0.0</td>\n",
       "      <td>C23</td>\n",
       "      <td>2</td>\n",
       "      <td>57387</td>\n",
       "      <td>2018-12-24</td>\n",
       "      <td>NaT</td>\n",
       "      <td>1</td>\n",
       "      <td>1</td>\n",
       "      <td>-665480</td>\n",
       "      <td>2</td>\n",
       "    </tr>\n",
       "    <tr>\n",
       "      <th>2</th>\n",
       "      <td>2019-03-01</td>\n",
       "      <td>1</td>\n",
       "      <td>28.0</td>\n",
       "      <td>0.0</td>\n",
       "      <td>C23</td>\n",
       "      <td>2</td>\n",
       "      <td>57387</td>\n",
       "      <td>2018-12-24</td>\n",
       "      <td>2019-11-03</td>\n",
       "      <td>1</td>\n",
       "      <td>1</td>\n",
       "      <td>0</td>\n",
       "      <td>2</td>\n",
       "    </tr>\n",
       "  </tbody>\n",
       "</table>\n",
       "</div>"
      ],
      "text/plain": [
       "      MMM-YY  Driver_ID   Age  Gender City  Education_Level  Income  \\\n",
       "0 2019-01-01          1  28.0     0.0  C23                2   57387   \n",
       "1 2019-02-01          1  28.0     0.0  C23                2   57387   \n",
       "2 2019-03-01          1  28.0     0.0  C23                2   57387   \n",
       "\n",
       "  Dateofjoining LastWorkingDate  Joining Designation  Grade  \\\n",
       "0    2018-12-24             NaT                    1      1   \n",
       "1    2018-12-24             NaT                    1      1   \n",
       "2    2018-12-24      2019-11-03                    1      1   \n",
       "\n",
       "   Total Business Value  Quarterly Rating  \n",
       "0               2381060                 2  \n",
       "1               -665480                 2  \n",
       "2                     0                 2  "
      ]
     },
     "execution_count": 11,
     "metadata": {},
     "output_type": "execute_result"
    }
   ],
   "source": [
    "ola[ola['Driver_ID']==1]"
   ]
  },
  {
   "cell_type": "markdown",
   "id": "f5061083",
   "metadata": {},
   "source": [
    "# 4) Aggregate data in order to remove multiple occurrences of same driver data (We did something similar in Delhivery business Case)\n"
   ]
  },
  {
   "cell_type": "code",
   "execution_count": 12,
   "id": "8082fff8",
   "metadata": {},
   "outputs": [],
   "source": [
    "col_dict = {'MMM-YY'              : 'last',\n",
    "            'Age'                 : 'last',\n",
    "            'Gender'              : 'last',\n",
    "            'City'                : 'last',\n",
    "            'Education_Level'     : 'last',\n",
    "            'Income'              : 'last',\n",
    "            'Dateofjoining'       : 'last',\n",
    "            'LastWorkingDate'     : 'last',\n",
    "            'Joining Designation' : 'last',\n",
    "            'Grade'               : 'last',\n",
    "            'Total Business Value': 'sum',\n",
    "            'Quarterly Rating'    : 'last'}"
   ]
  },
  {
   "cell_type": "code",
   "execution_count": 13,
   "id": "ce062527",
   "metadata": {},
   "outputs": [],
   "source": [
    "ola_df = df.groupby('Driver_ID').agg(col_dict).reset_index()"
   ]
  },
  {
   "cell_type": "code",
   "execution_count": 14,
   "id": "6a623d9c",
   "metadata": {},
   "outputs": [
    {
     "data": {
      "text/plain": [
       "95331060.0"
      ]
     },
     "execution_count": 14,
     "metadata": {},
     "output_type": "execute_result"
    }
   ],
   "source": [
    "ola_df['Total Business Value'].max()"
   ]
  },
  {
   "cell_type": "code",
   "execution_count": 15,
   "id": "2a9bc861",
   "metadata": {},
   "outputs": [
    {
     "data": {
      "text/html": [
       "<div>\n",
       "<style scoped>\n",
       "    .dataframe tbody tr th:only-of-type {\n",
       "        vertical-align: middle;\n",
       "    }\n",
       "\n",
       "    .dataframe tbody tr th {\n",
       "        vertical-align: top;\n",
       "    }\n",
       "\n",
       "    .dataframe thead th {\n",
       "        text-align: right;\n",
       "    }\n",
       "</style>\n",
       "<table border=\"1\" class=\"dataframe\">\n",
       "  <thead>\n",
       "    <tr style=\"text-align: right;\">\n",
       "      <th></th>\n",
       "      <th>Driver_ID</th>\n",
       "      <th>MMM-YY</th>\n",
       "      <th>Age</th>\n",
       "      <th>Gender</th>\n",
       "      <th>City</th>\n",
       "      <th>Education_Level</th>\n",
       "      <th>Income</th>\n",
       "      <th>Dateofjoining</th>\n",
       "      <th>LastWorkingDate</th>\n",
       "      <th>Joining Designation</th>\n",
       "      <th>Grade</th>\n",
       "      <th>Total Business Value</th>\n",
       "      <th>Quarterly Rating</th>\n",
       "    </tr>\n",
       "  </thead>\n",
       "  <tbody>\n",
       "    <tr>\n",
       "      <th>0</th>\n",
       "      <td>1</td>\n",
       "      <td>2019-03-01</td>\n",
       "      <td>28.0</td>\n",
       "      <td>0.0</td>\n",
       "      <td>C23</td>\n",
       "      <td>2.0</td>\n",
       "      <td>57387.0</td>\n",
       "      <td>2018-12-24</td>\n",
       "      <td>2019-11-03</td>\n",
       "      <td>1.0</td>\n",
       "      <td>1.0</td>\n",
       "      <td>1715580.0</td>\n",
       "      <td>2.0</td>\n",
       "    </tr>\n",
       "    <tr>\n",
       "      <th>1</th>\n",
       "      <td>2</td>\n",
       "      <td>2020-12-01</td>\n",
       "      <td>31.0</td>\n",
       "      <td>0.0</td>\n",
       "      <td>C7</td>\n",
       "      <td>2.0</td>\n",
       "      <td>67016.0</td>\n",
       "      <td>2020-06-11</td>\n",
       "      <td>NaT</td>\n",
       "      <td>2.0</td>\n",
       "      <td>2.0</td>\n",
       "      <td>0.0</td>\n",
       "      <td>1.0</td>\n",
       "    </tr>\n",
       "    <tr>\n",
       "      <th>2</th>\n",
       "      <td>4</td>\n",
       "      <td>2020-04-01</td>\n",
       "      <td>43.0</td>\n",
       "      <td>0.0</td>\n",
       "      <td>C13</td>\n",
       "      <td>2.0</td>\n",
       "      <td>65603.0</td>\n",
       "      <td>2019-07-12</td>\n",
       "      <td>2020-04-27</td>\n",
       "      <td>2.0</td>\n",
       "      <td>2.0</td>\n",
       "      <td>350000.0</td>\n",
       "      <td>1.0</td>\n",
       "    </tr>\n",
       "    <tr>\n",
       "      <th>3</th>\n",
       "      <td>5</td>\n",
       "      <td>2019-03-01</td>\n",
       "      <td>29.0</td>\n",
       "      <td>0.0</td>\n",
       "      <td>C9</td>\n",
       "      <td>0.0</td>\n",
       "      <td>46368.0</td>\n",
       "      <td>2019-09-01</td>\n",
       "      <td>2019-07-03</td>\n",
       "      <td>1.0</td>\n",
       "      <td>1.0</td>\n",
       "      <td>120360.0</td>\n",
       "      <td>1.0</td>\n",
       "    </tr>\n",
       "    <tr>\n",
       "      <th>4</th>\n",
       "      <td>6</td>\n",
       "      <td>2020-12-01</td>\n",
       "      <td>31.0</td>\n",
       "      <td>1.0</td>\n",
       "      <td>C11</td>\n",
       "      <td>1.0</td>\n",
       "      <td>78728.0</td>\n",
       "      <td>2020-07-31</td>\n",
       "      <td>NaT</td>\n",
       "      <td>3.0</td>\n",
       "      <td>3.0</td>\n",
       "      <td>1265000.0</td>\n",
       "      <td>2.0</td>\n",
       "    </tr>\n",
       "    <tr>\n",
       "      <th>...</th>\n",
       "      <td>...</td>\n",
       "      <td>...</td>\n",
       "      <td>...</td>\n",
       "      <td>...</td>\n",
       "      <td>...</td>\n",
       "      <td>...</td>\n",
       "      <td>...</td>\n",
       "      <td>...</td>\n",
       "      <td>...</td>\n",
       "      <td>...</td>\n",
       "      <td>...</td>\n",
       "      <td>...</td>\n",
       "      <td>...</td>\n",
       "    </tr>\n",
       "    <tr>\n",
       "      <th>2376</th>\n",
       "      <td>2784</td>\n",
       "      <td>2020-12-01</td>\n",
       "      <td>34.0</td>\n",
       "      <td>0.0</td>\n",
       "      <td>C24</td>\n",
       "      <td>0.0</td>\n",
       "      <td>82815.0</td>\n",
       "      <td>2015-10-15</td>\n",
       "      <td>NaT</td>\n",
       "      <td>2.0</td>\n",
       "      <td>3.0</td>\n",
       "      <td>21748820.0</td>\n",
       "      <td>4.0</td>\n",
       "    </tr>\n",
       "    <tr>\n",
       "      <th>2377</th>\n",
       "      <td>2785</td>\n",
       "      <td>2020-10-01</td>\n",
       "      <td>34.0</td>\n",
       "      <td>1.0</td>\n",
       "      <td>C9</td>\n",
       "      <td>0.0</td>\n",
       "      <td>12105.0</td>\n",
       "      <td>2020-08-28</td>\n",
       "      <td>2020-10-28</td>\n",
       "      <td>1.0</td>\n",
       "      <td>1.0</td>\n",
       "      <td>0.0</td>\n",
       "      <td>1.0</td>\n",
       "    </tr>\n",
       "    <tr>\n",
       "      <th>2378</th>\n",
       "      <td>2786</td>\n",
       "      <td>2019-09-01</td>\n",
       "      <td>45.0</td>\n",
       "      <td>0.0</td>\n",
       "      <td>C19</td>\n",
       "      <td>0.0</td>\n",
       "      <td>35370.0</td>\n",
       "      <td>2018-07-31</td>\n",
       "      <td>2019-09-22</td>\n",
       "      <td>2.0</td>\n",
       "      <td>2.0</td>\n",
       "      <td>2815090.0</td>\n",
       "      <td>1.0</td>\n",
       "    </tr>\n",
       "    <tr>\n",
       "      <th>2379</th>\n",
       "      <td>2787</td>\n",
       "      <td>2019-06-01</td>\n",
       "      <td>28.0</td>\n",
       "      <td>1.0</td>\n",
       "      <td>C20</td>\n",
       "      <td>2.0</td>\n",
       "      <td>69498.0</td>\n",
       "      <td>2018-07-21</td>\n",
       "      <td>2019-06-20</td>\n",
       "      <td>1.0</td>\n",
       "      <td>1.0</td>\n",
       "      <td>977830.0</td>\n",
       "      <td>1.0</td>\n",
       "    </tr>\n",
       "    <tr>\n",
       "      <th>2380</th>\n",
       "      <td>2788</td>\n",
       "      <td>2020-12-01</td>\n",
       "      <td>30.0</td>\n",
       "      <td>0.0</td>\n",
       "      <td>C27</td>\n",
       "      <td>2.0</td>\n",
       "      <td>70254.0</td>\n",
       "      <td>2020-08-06</td>\n",
       "      <td>NaT</td>\n",
       "      <td>2.0</td>\n",
       "      <td>2.0</td>\n",
       "      <td>2298240.0</td>\n",
       "      <td>2.0</td>\n",
       "    </tr>\n",
       "  </tbody>\n",
       "</table>\n",
       "<p>2381 rows × 13 columns</p>\n",
       "</div>"
      ],
      "text/plain": [
       "      Driver_ID     MMM-YY   Age  Gender City  Education_Level   Income  \\\n",
       "0             1 2019-03-01  28.0     0.0  C23              2.0  57387.0   \n",
       "1             2 2020-12-01  31.0     0.0   C7              2.0  67016.0   \n",
       "2             4 2020-04-01  43.0     0.0  C13              2.0  65603.0   \n",
       "3             5 2019-03-01  29.0     0.0   C9              0.0  46368.0   \n",
       "4             6 2020-12-01  31.0     1.0  C11              1.0  78728.0   \n",
       "...         ...        ...   ...     ...  ...              ...      ...   \n",
       "2376       2784 2020-12-01  34.0     0.0  C24              0.0  82815.0   \n",
       "2377       2785 2020-10-01  34.0     1.0   C9              0.0  12105.0   \n",
       "2378       2786 2019-09-01  45.0     0.0  C19              0.0  35370.0   \n",
       "2379       2787 2019-06-01  28.0     1.0  C20              2.0  69498.0   \n",
       "2380       2788 2020-12-01  30.0     0.0  C27              2.0  70254.0   \n",
       "\n",
       "     Dateofjoining LastWorkingDate  Joining Designation  Grade  \\\n",
       "0       2018-12-24      2019-11-03                  1.0    1.0   \n",
       "1       2020-06-11             NaT                  2.0    2.0   \n",
       "2       2019-07-12      2020-04-27                  2.0    2.0   \n",
       "3       2019-09-01      2019-07-03                  1.0    1.0   \n",
       "4       2020-07-31             NaT                  3.0    3.0   \n",
       "...            ...             ...                  ...    ...   \n",
       "2376    2015-10-15             NaT                  2.0    3.0   \n",
       "2377    2020-08-28      2020-10-28                  1.0    1.0   \n",
       "2378    2018-07-31      2019-09-22                  2.0    2.0   \n",
       "2379    2018-07-21      2019-06-20                  1.0    1.0   \n",
       "2380    2020-08-06             NaT                  2.0    2.0   \n",
       "\n",
       "      Total Business Value  Quarterly Rating  \n",
       "0                1715580.0               2.0  \n",
       "1                      0.0               1.0  \n",
       "2                 350000.0               1.0  \n",
       "3                 120360.0               1.0  \n",
       "4                1265000.0               2.0  \n",
       "...                    ...               ...  \n",
       "2376            21748820.0               4.0  \n",
       "2377                   0.0               1.0  \n",
       "2378             2815090.0               1.0  \n",
       "2379              977830.0               1.0  \n",
       "2380             2298240.0               2.0  \n",
       "\n",
       "[2381 rows x 13 columns]"
      ]
     },
     "execution_count": 15,
     "metadata": {},
     "output_type": "execute_result"
    }
   ],
   "source": [
    "ola_df"
   ]
  },
  {
   "cell_type": "markdown",
   "id": "d6a8a776",
   "metadata": {},
   "source": [
    "# 5) Feature Engineering Steps:\n",
    "\n"
   ]
  },
  {
   "cell_type": "markdown",
   "id": "fc1d6630",
   "metadata": {},
   "source": [
    "#### 5.1 Create a column which tells whether the quarterly rating has increased for that driver - for those whose quarterly rating has increased we assign the value 1\n"
   ]
  },
  {
   "cell_type": "code",
   "execution_count": 16,
   "id": "42c38bbb",
   "metadata": {},
   "outputs": [],
   "source": [
    "qrf = ola.groupby('Driver_ID').agg({'Quarterly Rating' : 'first'})\n",
    "qrl = ola.groupby('Driver_ID').agg({'Quarterly Rating' : 'last'})\n",
    "\n",
    "qr = (qrf['Quarterly Rating'] < qrl['Quarterly Rating']).reset_index()\n",
    "emp_id = qr[qr['Quarterly Rating']==True]['Driver_ID']\n",
    "\n",
    "ola_df['rating_increased'] = ola_df['Driver_ID'].apply(lambda x:1 if x in emp_id else 0)"
   ]
  },
  {
   "cell_type": "markdown",
   "id": "6323cdd2",
   "metadata": {},
   "source": [
    "#### 5.2 Target variable creation: Create a column called target which tells whether the driver has left the company- driver whose last working day is present will have the value 1\n",
    "\n"
   ]
  },
  {
   "cell_type": "code",
   "execution_count": 17,
   "id": "ea60040f",
   "metadata": {},
   "outputs": [],
   "source": [
    "ola_df['Target'] = ola_df['LastWorkingDate'].apply(lambda x:0 if pd.isnull(x)==True else 1)"
   ]
  },
  {
   "cell_type": "markdown",
   "id": "9968f44d",
   "metadata": {},
   "source": [
    "#### 5.3 Create a column which tells whether the monthly income has increased for that driver - for those whose monthly income has increased we assign the value 1\n",
    "\n"
   ]
  },
  {
   "cell_type": "code",
   "execution_count": 18,
   "id": "28ee192d",
   "metadata": {},
   "outputs": [],
   "source": [
    "qrf = ola.groupby('Driver_ID').agg({'Income' : 'first'})\n",
    "qrl = ola.groupby('Driver_ID').agg({'Income' : 'last'})\n",
    "\n",
    "qr = (qrf['Income'] < qrl['Income']).reset_index()\n",
    "emp_id = qr[qr['Income']==True]['Driver_ID']\n",
    "\n",
    "ola_df['income_increased'] = ola_df['Driver_ID'].apply(lambda x:1 if x in emp_id else 0)"
   ]
  },
  {
   "cell_type": "code",
   "execution_count": 19,
   "id": "aeb39a9f",
   "metadata": {
    "scrolled": false
   },
   "outputs": [],
   "source": [
    "#ola_df"
   ]
  },
  {
   "cell_type": "markdown",
   "id": "20f918d3",
   "metadata": {},
   "source": [
    "# 6) Statistical summary of the derived dataset\n"
   ]
  },
  {
   "cell_type": "code",
   "execution_count": 20,
   "id": "b89f1c13",
   "metadata": {},
   "outputs": [
    {
     "data": {
      "text/html": [
       "<div>\n",
       "<style scoped>\n",
       "    .dataframe tbody tr th:only-of-type {\n",
       "        vertical-align: middle;\n",
       "    }\n",
       "\n",
       "    .dataframe tbody tr th {\n",
       "        vertical-align: top;\n",
       "    }\n",
       "\n",
       "    .dataframe thead th {\n",
       "        text-align: right;\n",
       "    }\n",
       "</style>\n",
       "<table border=\"1\" class=\"dataframe\">\n",
       "  <thead>\n",
       "    <tr style=\"text-align: right;\">\n",
       "      <th></th>\n",
       "      <th>Driver_ID</th>\n",
       "      <th>Age</th>\n",
       "      <th>Gender</th>\n",
       "      <th>Education_Level</th>\n",
       "      <th>Income</th>\n",
       "      <th>Joining Designation</th>\n",
       "      <th>Grade</th>\n",
       "      <th>Total Business Value</th>\n",
       "      <th>Quarterly Rating</th>\n",
       "      <th>rating_increased</th>\n",
       "      <th>Target</th>\n",
       "      <th>income_increased</th>\n",
       "    </tr>\n",
       "  </thead>\n",
       "  <tbody>\n",
       "    <tr>\n",
       "      <th>count</th>\n",
       "      <td>2381.000000</td>\n",
       "      <td>2381.000000</td>\n",
       "      <td>2381.000000</td>\n",
       "      <td>2381.00000</td>\n",
       "      <td>2381.000000</td>\n",
       "      <td>2381.000000</td>\n",
       "      <td>2381.000000</td>\n",
       "      <td>2.381000e+03</td>\n",
       "      <td>2381.000000</td>\n",
       "      <td>2381.000000</td>\n",
       "      <td>2381.000000</td>\n",
       "      <td>2381.000000</td>\n",
       "    </tr>\n",
       "    <tr>\n",
       "      <th>mean</th>\n",
       "      <td>1397.559009</td>\n",
       "      <td>33.674507</td>\n",
       "      <td>0.410584</td>\n",
       "      <td>1.00756</td>\n",
       "      <td>59334.157077</td>\n",
       "      <td>1.820244</td>\n",
       "      <td>2.096598</td>\n",
       "      <td>4.586742e+06</td>\n",
       "      <td>1.427971</td>\n",
       "      <td>0.128097</td>\n",
       "      <td>0.678706</td>\n",
       "      <td>0.015120</td>\n",
       "    </tr>\n",
       "    <tr>\n",
       "      <th>std</th>\n",
       "      <td>806.161628</td>\n",
       "      <td>5.972701</td>\n",
       "      <td>0.491496</td>\n",
       "      <td>0.81629</td>\n",
       "      <td>28383.666384</td>\n",
       "      <td>0.841433</td>\n",
       "      <td>0.941522</td>\n",
       "      <td>9.127115e+06</td>\n",
       "      <td>0.809839</td>\n",
       "      <td>0.334268</td>\n",
       "      <td>0.467071</td>\n",
       "      <td>0.122055</td>\n",
       "    </tr>\n",
       "    <tr>\n",
       "      <th>min</th>\n",
       "      <td>1.000000</td>\n",
       "      <td>21.000000</td>\n",
       "      <td>0.000000</td>\n",
       "      <td>0.00000</td>\n",
       "      <td>10747.000000</td>\n",
       "      <td>1.000000</td>\n",
       "      <td>1.000000</td>\n",
       "      <td>-1.385530e+06</td>\n",
       "      <td>1.000000</td>\n",
       "      <td>0.000000</td>\n",
       "      <td>0.000000</td>\n",
       "      <td>0.000000</td>\n",
       "    </tr>\n",
       "    <tr>\n",
       "      <th>25%</th>\n",
       "      <td>695.000000</td>\n",
       "      <td>29.000000</td>\n",
       "      <td>0.000000</td>\n",
       "      <td>0.00000</td>\n",
       "      <td>39104.000000</td>\n",
       "      <td>1.000000</td>\n",
       "      <td>1.000000</td>\n",
       "      <td>0.000000e+00</td>\n",
       "      <td>1.000000</td>\n",
       "      <td>0.000000</td>\n",
       "      <td>0.000000</td>\n",
       "      <td>0.000000</td>\n",
       "    </tr>\n",
       "    <tr>\n",
       "      <th>50%</th>\n",
       "      <td>1400.000000</td>\n",
       "      <td>33.000000</td>\n",
       "      <td>0.000000</td>\n",
       "      <td>1.00000</td>\n",
       "      <td>55315.000000</td>\n",
       "      <td>2.000000</td>\n",
       "      <td>2.000000</td>\n",
       "      <td>8.176800e+05</td>\n",
       "      <td>1.000000</td>\n",
       "      <td>0.000000</td>\n",
       "      <td>1.000000</td>\n",
       "      <td>0.000000</td>\n",
       "    </tr>\n",
       "    <tr>\n",
       "      <th>75%</th>\n",
       "      <td>2100.000000</td>\n",
       "      <td>37.000000</td>\n",
       "      <td>1.000000</td>\n",
       "      <td>2.00000</td>\n",
       "      <td>75986.000000</td>\n",
       "      <td>2.000000</td>\n",
       "      <td>3.000000</td>\n",
       "      <td>4.173650e+06</td>\n",
       "      <td>2.000000</td>\n",
       "      <td>0.000000</td>\n",
       "      <td>1.000000</td>\n",
       "      <td>0.000000</td>\n",
       "    </tr>\n",
       "    <tr>\n",
       "      <th>max</th>\n",
       "      <td>2788.000000</td>\n",
       "      <td>58.000000</td>\n",
       "      <td>1.000000</td>\n",
       "      <td>2.00000</td>\n",
       "      <td>188418.000000</td>\n",
       "      <td>5.000000</td>\n",
       "      <td>5.000000</td>\n",
       "      <td>9.533106e+07</td>\n",
       "      <td>4.000000</td>\n",
       "      <td>1.000000</td>\n",
       "      <td>1.000000</td>\n",
       "      <td>1.000000</td>\n",
       "    </tr>\n",
       "  </tbody>\n",
       "</table>\n",
       "</div>"
      ],
      "text/plain": [
       "         Driver_ID          Age       Gender  Education_Level         Income  \\\n",
       "count  2381.000000  2381.000000  2381.000000       2381.00000    2381.000000   \n",
       "mean   1397.559009    33.674507     0.410584          1.00756   59334.157077   \n",
       "std     806.161628     5.972701     0.491496          0.81629   28383.666384   \n",
       "min       1.000000    21.000000     0.000000          0.00000   10747.000000   \n",
       "25%     695.000000    29.000000     0.000000          0.00000   39104.000000   \n",
       "50%    1400.000000    33.000000     0.000000          1.00000   55315.000000   \n",
       "75%    2100.000000    37.000000     1.000000          2.00000   75986.000000   \n",
       "max    2788.000000    58.000000     1.000000          2.00000  188418.000000   \n",
       "\n",
       "       Joining Designation        Grade  Total Business Value  \\\n",
       "count          2381.000000  2381.000000          2.381000e+03   \n",
       "mean              1.820244     2.096598          4.586742e+06   \n",
       "std               0.841433     0.941522          9.127115e+06   \n",
       "min               1.000000     1.000000         -1.385530e+06   \n",
       "25%               1.000000     1.000000          0.000000e+00   \n",
       "50%               2.000000     2.000000          8.176800e+05   \n",
       "75%               2.000000     3.000000          4.173650e+06   \n",
       "max               5.000000     5.000000          9.533106e+07   \n",
       "\n",
       "       Quarterly Rating  rating_increased       Target  income_increased  \n",
       "count       2381.000000       2381.000000  2381.000000       2381.000000  \n",
       "mean           1.427971          0.128097     0.678706          0.015120  \n",
       "std            0.809839          0.334268     0.467071          0.122055  \n",
       "min            1.000000          0.000000     0.000000          0.000000  \n",
       "25%            1.000000          0.000000     0.000000          0.000000  \n",
       "50%            1.000000          0.000000     1.000000          0.000000  \n",
       "75%            2.000000          0.000000     1.000000          0.000000  \n",
       "max            4.000000          1.000000     1.000000          1.000000  "
      ]
     },
     "execution_count": 20,
     "metadata": {},
     "output_type": "execute_result"
    }
   ],
   "source": [
    "ola_df.describe()"
   ]
  },
  {
   "cell_type": "markdown",
   "id": "afba0ba2",
   "metadata": {},
   "source": [
    "#### Observing the dataset we can interpret few things about the data:\n",
    "    * We have drivers from the Age 21 to 58 and 75% of the drivers are below 37\n",
    "    * Mean income of the drivers are 59K+ which is a good amount, may be churn rate may depend on this as well\n",
    "    * Mean age of the drivers are 34\n",
    "    * Churn rate is above 50%\n",
    "    * Cannot find significant increase in Rating and Income, this could be a major factor which contributes to the Churn\n",
    "    "
   ]
  },
  {
   "cell_type": "code",
   "execution_count": 21,
   "id": "01b21596",
   "metadata": {},
   "outputs": [
    {
     "name": "stdout",
     "output_type": "stream",
     "text": [
      "<class 'pandas.core.frame.DataFrame'>\n",
      "RangeIndex: 2381 entries, 0 to 2380\n",
      "Data columns (total 16 columns):\n",
      " #   Column                Non-Null Count  Dtype         \n",
      "---  ------                --------------  -----         \n",
      " 0   Driver_ID             2381 non-null   int64         \n",
      " 1   MMM-YY                2381 non-null   datetime64[ns]\n",
      " 2   Age                   2381 non-null   float64       \n",
      " 3   Gender                2381 non-null   float64       \n",
      " 4   City                  2381 non-null   object        \n",
      " 5   Education_Level       2381 non-null   float64       \n",
      " 6   Income                2381 non-null   float64       \n",
      " 7   Dateofjoining         2381 non-null   datetime64[ns]\n",
      " 8   LastWorkingDate       1616 non-null   datetime64[ns]\n",
      " 9   Joining Designation   2381 non-null   float64       \n",
      " 10  Grade                 2381 non-null   float64       \n",
      " 11  Total Business Value  2381 non-null   float64       \n",
      " 12  Quarterly Rating      2381 non-null   float64       \n",
      " 13  rating_increased      2381 non-null   int64         \n",
      " 14  Target                2381 non-null   int64         \n",
      " 15  income_increased      2381 non-null   int64         \n",
      "dtypes: datetime64[ns](3), float64(8), int64(4), object(1)\n",
      "memory usage: 297.8+ KB\n"
     ]
    }
   ],
   "source": [
    "ola_df.info()"
   ]
  },
  {
   "cell_type": "code",
   "execution_count": 22,
   "id": "a1111538",
   "metadata": {},
   "outputs": [
    {
     "name": "stdout",
     "output_type": "stream",
     "text": [
      "Driver_ID: 2381\n",
      "******************************\n",
      "MMM-YY: 24\n",
      "******************************\n",
      "Age: 41\n",
      "******************************\n",
      "Gender: 5\n",
      "******************************\n",
      "City: 29\n",
      "******************************\n",
      "Education_Level: 3\n",
      "******************************\n",
      "Income: 2339\n",
      "******************************\n",
      "Dateofjoining: 869\n",
      "******************************\n",
      "LastWorkingDate: 493\n",
      "******************************\n",
      "Joining Designation: 5\n",
      "******************************\n",
      "Grade: 5\n",
      "******************************\n",
      "Total Business Value: 1629\n",
      "******************************\n",
      "Quarterly Rating: 4\n",
      "******************************\n",
      "rating_increased: 2\n",
      "******************************\n",
      "Target: 2\n",
      "******************************\n",
      "income_increased: 2\n",
      "******************************\n"
     ]
    }
   ],
   "source": [
    "for col in ola_df.columns:\n",
    "    print(col+':',ola_df[col].nunique())\n",
    "    print('*'*30)"
   ]
  },
  {
   "cell_type": "code",
   "execution_count": 23,
   "id": "a7fe3672",
   "metadata": {},
   "outputs": [
    {
     "name": "stdout",
     "output_type": "stream",
     "text": [
      "0.0    1400\n",
      "1.0     975\n",
      "0.6       3\n",
      "0.2       2\n",
      "0.4       1\n",
      "Name: Gender, dtype: int64\n",
      "3 is the index of column Gender\n",
      "*************************\n",
      "2.0    802\n",
      "1.0    795\n",
      "0.0    784\n",
      "Name: Education_Level, dtype: int64\n",
      "5 is the index of column Education_Level\n",
      "*************************\n",
      "1.0    1026\n",
      "2.0     815\n",
      "3.0     493\n",
      "4.0      36\n",
      "5.0      11\n",
      "Name: Joining Designation, dtype: int64\n",
      "9 is the index of column Joining Designation\n",
      "*************************\n",
      "2.0    855\n",
      "1.0    741\n",
      "3.0    623\n",
      "4.0    138\n",
      "5.0     24\n",
      "Name: Grade, dtype: int64\n",
      "10 is the index of column Grade\n",
      "*************************\n",
      "1.0    1744\n",
      "2.0     362\n",
      "3.0     168\n",
      "4.0     107\n",
      "Name: Quarterly Rating, dtype: int64\n",
      "12 is the index of column Quarterly Rating\n",
      "*************************\n",
      "0    2076\n",
      "1     305\n",
      "Name: rating_increased, dtype: int64\n",
      "13 is the index of column rating_increased\n",
      "*************************\n",
      "1    1616\n",
      "0     765\n",
      "Name: Target, dtype: int64\n",
      "14 is the index of column Target\n",
      "*************************\n",
      "0    2345\n",
      "1      36\n",
      "Name: income_increased, dtype: int64\n",
      "15 is the index of column income_increased\n",
      "*************************\n"
     ]
    }
   ],
   "source": [
    "cat_col = []\n",
    "num_col = []\n",
    "for n,col in enumerate(ola_df.columns):\n",
    "    if ola_df[col].nunique()<=20:\n",
    "        print(ola_df[col].value_counts())\n",
    "        print(f'{n} is the index of column {col}')\n",
    "        print('*'*25)\n",
    "        cat_col.append(col)\n",
    "    else:\n",
    "        num_col.append(col)\n",
    "num_col.remove('MMM-YY')\n",
    "num_col.remove('City')\n",
    "num_col.remove('Dateofjoining')\n",
    "num_col.remove('LastWorkingDate')\n",
    "num_col.remove('Driver_ID')"
   ]
  },
  {
   "cell_type": "code",
   "execution_count": 24,
   "id": "2210f01a",
   "metadata": {},
   "outputs": [
    {
     "data": {
      "image/png": "[encoded data removed]",
      "text/plain": [
       "<Figure size 1500x1800 with 8 Axes>"
      ]
     },
     "metadata": {},
     "output_type": "display_data"
    }
   ],
   "source": [
    "import matplotlib.pyplot as plt\n",
    "import seaborn as sns\n",
    "fig,axes = plt.subplots(4,2,figsize=(15,18))\n",
    "\n",
    "for i in range(0,len(cat_col)):\n",
    "    sns.countplot(x=cat_col[i], data=ola_df,ax=axes[i//2][i%2],hue='Target')\n",
    "plt.tight_layout()\n",
    "plt.show()"
   ]
  },
  {
   "cell_type": "markdown",
   "id": "7876640a",
   "metadata": {},
   "source": [
    "#### Observing the dataset we can interpret few things about the data:\n",
    "    * Males quits more than females\n",
    "    * Joining Desgnation 1,2 has significant Churns\n",
    "    * Drivers with grade <=2 Churns significantly\n",
    "    * Drivers who has rating as 1 has signifcant Churn rate\n",
    "    * Increase in Rating and Income of drivers are very low  "
   ]
  },
  {
   "cell_type": "code",
   "execution_count": 25,
   "id": "22a3a2af",
   "metadata": {},
   "outputs": [
    {
     "name": "stdout",
     "output_type": "stream",
     "text": [
      "Significant association between Gender and Driver Quitting\n",
      "Significant association between Joining Designation and Driver Quitting\n",
      "Significant association between Grade and Driver Quitting\n",
      "Significant association between Quarterly Rating and Driver Quitting\n"
     ]
    }
   ],
   "source": [
    "from scipy.stats import chi2_contingency\n",
    "cat_col.remove('Target')\n",
    "for col in cat_col:\n",
    "    contingency_table = pd.crosstab(ola_df[col],ola_df['Target'])\n",
    "    chi2, p, dof, expected = chi2_contingency(contingency_table)\n",
    "    if p < 0.05:\n",
    "        print(f'Significant association between {col} and Driver Quitting')"
   ]
  },
  {
   "cell_type": "code",
   "execution_count": 26,
   "id": "cd5f6165",
   "metadata": {},
   "outputs": [
    {
     "name": "stdout",
     "output_type": "stream",
     "text": [
      "Age 0.9808999954151348\n",
      "Income 0.9808999954151348\n",
      "Total Business Value 0.9808999954151348\n"
     ]
    }
   ],
   "source": [
    "from scipy.stats import ttest_ind\n",
    "for col in num_col:\n",
    "    churned = ola_df[ola_df['Target'] == 0][col]\n",
    "    not_churned = ola_df[ola_df['Target'] == 1][col]\n",
    "    t_stat, p_value = ttest_ind(churned, not_churned)\n",
    "    if p < 0.05:\n",
    "        print(f'Significant difference between means of {col} for Drivers Churned and not Churned')\n",
    "    else:\n",
    "        print(col,p)"
   ]
  },
  {
   "cell_type": "markdown",
   "id": "b8c971f3",
   "metadata": {},
   "source": [
    "This shows that no significant difference due to Age, Income and Total business value"
   ]
  },
  {
   "cell_type": "code",
   "execution_count": 27,
   "id": "9768d886",
   "metadata": {
    "scrolled": false
   },
   "outputs": [
    {
     "data": {
      "text/plain": [
       "<Axes: xlabel='City', ylabel='count'>"
      ]
     },
     "execution_count": 27,
     "metadata": {},
     "output_type": "execute_result"
    },
    {
     "data": {
      "image/png": "[encoded data removed]",
      "text/plain": [
       "<Figure size 1500x800 with 1 Axes>"
      ]
     },
     "metadata": {},
     "output_type": "display_data"
    }
   ],
   "source": [
    "fig,axes = plt.subplots(figsize=(15,8))\n",
    "sns.countplot(data=ola_df, x='City', hue='Target')"
   ]
  },
  {
   "cell_type": "markdown",
   "id": "9da70a50",
   "metadata": {},
   "source": [
    "Compared to other cities C20 has more Churns. "
   ]
  },
  {
   "cell_type": "code",
   "execution_count": 28,
   "id": "3008f91f",
   "metadata": {},
   "outputs": [
    {
     "data": {
      "text/plain": [
       "<Axes: title={'center': 'Age with Target'}, xlabel='Age_Bin'>"
      ]
     },
     "execution_count": 28,
     "metadata": {},
     "output_type": "execute_result"
    },
    {
     "data": {
      "image/png": "[encoded data removed]",
      "text/plain": [
       "<Figure size 640x480 with 1 Axes>"
      ]
     },
     "metadata": {},
     "output_type": "display_data"
    }
   ],
   "source": [
    "ola_df['Age_Bin'] = pd.cut(ola_df['Age'],bins=[20,35,50,65])\n",
    "agebin = pd.crosstab(ola_df['Age_Bin'],ola_df['Target'])\n",
    "\n",
    "agebin.plot(kind='bar',stacked=True,title=\"Age with Target\")"
   ]
  },
  {
   "cell_type": "code",
   "execution_count": 29,
   "id": "4e18a398",
   "metadata": {},
   "outputs": [
    {
     "data": {
      "text/html": [
       "<div>\n",
       "<style scoped>\n",
       "    .dataframe tbody tr th:only-of-type {\n",
       "        vertical-align: middle;\n",
       "    }\n",
       "\n",
       "    .dataframe tbody tr th {\n",
       "        vertical-align: top;\n",
       "    }\n",
       "\n",
       "    .dataframe thead th {\n",
       "        text-align: right;\n",
       "    }\n",
       "</style>\n",
       "<table border=\"1\" class=\"dataframe\">\n",
       "  <thead>\n",
       "    <tr style=\"text-align: right;\">\n",
       "      <th>Target</th>\n",
       "      <th>0</th>\n",
       "      <th>1</th>\n",
       "    </tr>\n",
       "    <tr>\n",
       "      <th>Age_Bin</th>\n",
       "      <th></th>\n",
       "      <th></th>\n",
       "    </tr>\n",
       "  </thead>\n",
       "  <tbody>\n",
       "    <tr>\n",
       "      <th>(20, 35]</th>\n",
       "      <td>460</td>\n",
       "      <td>1093</td>\n",
       "    </tr>\n",
       "    <tr>\n",
       "      <th>(35, 50]</th>\n",
       "      <td>299</td>\n",
       "      <td>509</td>\n",
       "    </tr>\n",
       "    <tr>\n",
       "      <th>(50, 65]</th>\n",
       "      <td>6</td>\n",
       "      <td>14</td>\n",
       "    </tr>\n",
       "  </tbody>\n",
       "</table>\n",
       "</div>"
      ],
      "text/plain": [
       "Target      0     1\n",
       "Age_Bin            \n",
       "(20, 35]  460  1093\n",
       "(35, 50]  299   509\n",
       "(50, 65]    6    14"
      ]
     },
     "execution_count": 29,
     "metadata": {},
     "output_type": "execute_result"
    }
   ],
   "source": [
    "agebin"
   ]
  },
  {
   "cell_type": "code",
   "execution_count": 30,
   "id": "ccf4641a",
   "metadata": {},
   "outputs": [
    {
     "data": {
      "text/plain": [
       "<Axes: title={'center': 'Age with Target'}, xlabel='Age_Bin'>"
      ]
     },
     "execution_count": 30,
     "metadata": {},
     "output_type": "execute_result"
    },
    {
     "data": {
      "image/png": "[encoded data removed]",
      "text/plain": [
       "<Figure size 640x480 with 1 Axes>"
      ]
     },
     "metadata": {},
     "output_type": "display_data"
    }
   ],
   "source": [
    "agebin.div(agebin.sum(1).astype(float),axis=0).plot(kind='bar',stacked=True,title=\"Age with Target\")"
   ]
  },
  {
   "cell_type": "markdown",
   "id": "3f46cab9",
   "metadata": {},
   "source": [
    "Churn rate of Drivers in 20-35 and 50-65 is higher than 35-50"
   ]
  },
  {
   "cell_type": "code",
   "execution_count": 31,
   "id": "8d630e94",
   "metadata": {},
   "outputs": [
    {
     "data": {
      "text/plain": [
       "<Axes: title={'center': 'Income with Target'}, xlabel='Income_Bin'>"
      ]
     },
     "execution_count": 31,
     "metadata": {},
     "output_type": "execute_result"
    },
    {
     "data": {
      "image/png": "[encoded data removed]",
      "text/plain": [
       "<Figure size 640x480 with 1 Axes>"
      ]
     },
     "metadata": {},
     "output_type": "display_data"
    }
   ],
   "source": [
    "#Binning the Income into categories\n",
    "ola_df['Income_Bin'] = pd.cut(ola_df['Income'],bins=[10000, 40000, 70000, 100000, 130000, 160000, 190000 ])\n",
    "\n",
    "#Salary feature with Target\n",
    "salarybin = pd.crosstab(ola_df['Income_Bin'],ola_df['Target'])\n",
    "salarybin.div(salarybin.sum(1).astype(float),axis=0).plot(kind='bar',stacked=True,title=\"Income with Target\")"
   ]
  },
  {
   "cell_type": "markdown",
   "id": "81c83301",
   "metadata": {},
   "source": [
    "More Drivers with income bin 10,000-40,000 are Quitting "
   ]
  },
  {
   "cell_type": "code",
   "execution_count": 32,
   "id": "3d08da73",
   "metadata": {},
   "outputs": [
    {
     "data": {
      "text/plain": [
       "<Axes: title={'center': 'Total Business Value with Target'}, xlabel='TBV_Bin'>"
      ]
     },
     "execution_count": 32,
     "metadata": {},
     "output_type": "execute_result"
    },
    {
     "data": {
      "image/png": "[encoded data removed]",
      "text/plain": [
       "<Figure size 640x480 with 1 Axes>"
      ]
     },
     "metadata": {},
     "output_type": "display_data"
    }
   ],
   "source": [
    "#Defining the bins and groups\n",
    "m1 = round(ola_df['Total Business Value'].min())\n",
    "m2 = round(ola_df['Total Business Value'].max())\n",
    "bins = [m1, 80000 , 2000000 , 3200000, 4400000, 5600000, 6800000, m2]\n",
    "\n",
    "#Binning the Total Business Value into categories\n",
    "ola_df['TBV_Bin'] = pd.cut(ola_df['Total Business Value'],bins)\n",
    "\n",
    "#Total Business Value feature with Target\n",
    "tbvbin = pd.crosstab(ola_df['TBV_Bin'],ola_df['Target'])\n",
    "tbvbin.div(tbvbin.sum(1).astype(float),axis=0).plot(kind='bar',stacked=True,title=\"Total Business Value with Target\")"
   ]
  },
  {
   "cell_type": "markdown",
   "id": "52f93f52",
   "metadata": {},
   "source": [
    "* Drivers in 68,00,000-9,53,31,060 BV bin are less likely to Churn\n",
    "* More Drivers with Negative  and low Business values (due to Cancel/Refund/EMI) are quiting "
   ]
  },
  {
   "cell_type": "markdown",
   "id": "3f04df01",
   "metadata": {},
   "source": [
    "# 7) Check correlation among independent variables and how they interact with each other\n"
   ]
  },
  {
   "cell_type": "code",
   "execution_count": 33,
   "id": "392d4764",
   "metadata": {},
   "outputs": [
    {
     "name": "stderr",
     "output_type": "stream",
     "text": [
      "C:\\Users\\Admi\\AppData\\Local\\Temp\\ipykernel_5308\\2147547322.py:4: FutureWarning: The default value of numeric_only in DataFrame.corr is deprecated. In a future version, it will default to False. Select only valid columns or specify the value of numeric_only to silence this warning.\n",
      "  sns.heatmap(ola_df.corr(),annot=True)\n"
     ]
    },
    {
     "data": {
      "text/plain": [
       "<Axes: >"
      ]
     },
     "execution_count": 33,
     "metadata": {},
     "output_type": "execute_result"
    },
    {
     "data": {
      "image/png": "[encoded data removed]",
      "text/plain": [
       "<Figure size 1000x500 with 2 Axes>"
      ]
     },
     "metadata": {},
     "output_type": "display_data"
    }
   ],
   "source": [
    "import seaborn as sns\n",
    "import matplotlib.pyplot as plt\n",
    "plt.figure(figsize=(10,5))\n",
    "sns.heatmap(ola_df.corr(),annot=True)"
   ]
  },
  {
   "cell_type": "markdown",
   "id": "e56647b0",
   "metadata": {},
   "source": [
    "#### Observing the dataset we can interpret few things about the data:\n",
    "    * Income and Grade is highly correlated\n",
    "    * Joining designation and Grade is highly correlated\n",
    "    * Total Business value and Quarterly rating is somewhat correlated"
   ]
  },
  {
   "cell_type": "markdown",
   "id": "a94d560f",
   "metadata": {},
   "source": [
    "# 8) One hot encoding of the categorical variable\n"
   ]
  },
  {
   "cell_type": "code",
   "execution_count": 34,
   "id": "b0100fca",
   "metadata": {},
   "outputs": [],
   "source": [
    "\n",
    "ola_df = pd.concat([ola_df,pd.get_dummies(ola_df['City'],prefix='City')],axis=1)"
   ]
  },
  {
   "cell_type": "code",
   "execution_count": 35,
   "id": "3544aab3",
   "metadata": {},
   "outputs": [],
   "source": [
    "df = ola_df.drop(columns=['Driver_ID', 'MMM-YY', 'City','Dateofjoining', 'LastWorkingDate','Target','Age_Bin', 'Income_Bin', 'TBV_Bin'])"
   ]
  },
  {
   "cell_type": "code",
   "execution_count": 36,
   "id": "3ebb200e",
   "metadata": {},
   "outputs": [
    {
     "data": {
      "text/html": [
       "<div>\n",
       "<style scoped>\n",
       "    .dataframe tbody tr th:only-of-type {\n",
       "        vertical-align: middle;\n",
       "    }\n",
       "\n",
       "    .dataframe tbody tr th {\n",
       "        vertical-align: top;\n",
       "    }\n",
       "\n",
       "    .dataframe thead th {\n",
       "        text-align: right;\n",
       "    }\n",
       "</style>\n",
       "<table border=\"1\" class=\"dataframe\">\n",
       "  <thead>\n",
       "    <tr style=\"text-align: right;\">\n",
       "      <th></th>\n",
       "      <th>Age</th>\n",
       "      <th>Gender</th>\n",
       "      <th>Education_Level</th>\n",
       "      <th>Income</th>\n",
       "      <th>Joining Designation</th>\n",
       "      <th>Grade</th>\n",
       "      <th>Total Business Value</th>\n",
       "      <th>Quarterly Rating</th>\n",
       "      <th>rating_increased</th>\n",
       "      <th>income_increased</th>\n",
       "      <th>...</th>\n",
       "      <th>City_C27</th>\n",
       "      <th>City_C28</th>\n",
       "      <th>City_C29</th>\n",
       "      <th>City_C3</th>\n",
       "      <th>City_C4</th>\n",
       "      <th>City_C5</th>\n",
       "      <th>City_C6</th>\n",
       "      <th>City_C7</th>\n",
       "      <th>City_C8</th>\n",
       "      <th>City_C9</th>\n",
       "    </tr>\n",
       "  </thead>\n",
       "  <tbody>\n",
       "    <tr>\n",
       "      <th>0</th>\n",
       "      <td>28.0</td>\n",
       "      <td>0.0</td>\n",
       "      <td>2.0</td>\n",
       "      <td>57387.0</td>\n",
       "      <td>1.0</td>\n",
       "      <td>1.0</td>\n",
       "      <td>1715580.0</td>\n",
       "      <td>2.0</td>\n",
       "      <td>0</td>\n",
       "      <td>0</td>\n",
       "      <td>...</td>\n",
       "      <td>0</td>\n",
       "      <td>0</td>\n",
       "      <td>0</td>\n",
       "      <td>0</td>\n",
       "      <td>0</td>\n",
       "      <td>0</td>\n",
       "      <td>0</td>\n",
       "      <td>0</td>\n",
       "      <td>0</td>\n",
       "      <td>0</td>\n",
       "    </tr>\n",
       "    <tr>\n",
       "      <th>1</th>\n",
       "      <td>31.0</td>\n",
       "      <td>0.0</td>\n",
       "      <td>2.0</td>\n",
       "      <td>67016.0</td>\n",
       "      <td>2.0</td>\n",
       "      <td>2.0</td>\n",
       "      <td>0.0</td>\n",
       "      <td>1.0</td>\n",
       "      <td>0</td>\n",
       "      <td>0</td>\n",
       "      <td>...</td>\n",
       "      <td>0</td>\n",
       "      <td>0</td>\n",
       "      <td>0</td>\n",
       "      <td>0</td>\n",
       "      <td>0</td>\n",
       "      <td>0</td>\n",
       "      <td>0</td>\n",
       "      <td>1</td>\n",
       "      <td>0</td>\n",
       "      <td>0</td>\n",
       "    </tr>\n",
       "    <tr>\n",
       "      <th>2</th>\n",
       "      <td>43.0</td>\n",
       "      <td>0.0</td>\n",
       "      <td>2.0</td>\n",
       "      <td>65603.0</td>\n",
       "      <td>2.0</td>\n",
       "      <td>2.0</td>\n",
       "      <td>350000.0</td>\n",
       "      <td>1.0</td>\n",
       "      <td>1</td>\n",
       "      <td>0</td>\n",
       "      <td>...</td>\n",
       "      <td>0</td>\n",
       "      <td>0</td>\n",
       "      <td>0</td>\n",
       "      <td>0</td>\n",
       "      <td>0</td>\n",
       "      <td>0</td>\n",
       "      <td>0</td>\n",
       "      <td>0</td>\n",
       "      <td>0</td>\n",
       "      <td>0</td>\n",
       "    </tr>\n",
       "    <tr>\n",
       "      <th>3</th>\n",
       "      <td>29.0</td>\n",
       "      <td>0.0</td>\n",
       "      <td>0.0</td>\n",
       "      <td>46368.0</td>\n",
       "      <td>1.0</td>\n",
       "      <td>1.0</td>\n",
       "      <td>120360.0</td>\n",
       "      <td>1.0</td>\n",
       "      <td>0</td>\n",
       "      <td>0</td>\n",
       "      <td>...</td>\n",
       "      <td>0</td>\n",
       "      <td>0</td>\n",
       "      <td>0</td>\n",
       "      <td>0</td>\n",
       "      <td>0</td>\n",
       "      <td>0</td>\n",
       "      <td>0</td>\n",
       "      <td>0</td>\n",
       "      <td>0</td>\n",
       "      <td>1</td>\n",
       "    </tr>\n",
       "    <tr>\n",
       "      <th>4</th>\n",
       "      <td>31.0</td>\n",
       "      <td>1.0</td>\n",
       "      <td>1.0</td>\n",
       "      <td>78728.0</td>\n",
       "      <td>3.0</td>\n",
       "      <td>3.0</td>\n",
       "      <td>1265000.0</td>\n",
       "      <td>2.0</td>\n",
       "      <td>0</td>\n",
       "      <td>0</td>\n",
       "      <td>...</td>\n",
       "      <td>0</td>\n",
       "      <td>0</td>\n",
       "      <td>0</td>\n",
       "      <td>0</td>\n",
       "      <td>0</td>\n",
       "      <td>0</td>\n",
       "      <td>0</td>\n",
       "      <td>0</td>\n",
       "      <td>0</td>\n",
       "      <td>0</td>\n",
       "    </tr>\n",
       "    <tr>\n",
       "      <th>...</th>\n",
       "      <td>...</td>\n",
       "      <td>...</td>\n",
       "      <td>...</td>\n",
       "      <td>...</td>\n",
       "      <td>...</td>\n",
       "      <td>...</td>\n",
       "      <td>...</td>\n",
       "      <td>...</td>\n",
       "      <td>...</td>\n",
       "      <td>...</td>\n",
       "      <td>...</td>\n",
       "      <td>...</td>\n",
       "      <td>...</td>\n",
       "      <td>...</td>\n",
       "      <td>...</td>\n",
       "      <td>...</td>\n",
       "      <td>...</td>\n",
       "      <td>...</td>\n",
       "      <td>...</td>\n",
       "      <td>...</td>\n",
       "      <td>...</td>\n",
       "    </tr>\n",
       "    <tr>\n",
       "      <th>2376</th>\n",
       "      <td>34.0</td>\n",
       "      <td>0.0</td>\n",
       "      <td>0.0</td>\n",
       "      <td>82815.0</td>\n",
       "      <td>2.0</td>\n",
       "      <td>3.0</td>\n",
       "      <td>21748820.0</td>\n",
       "      <td>4.0</td>\n",
       "      <td>0</td>\n",
       "      <td>0</td>\n",
       "      <td>...</td>\n",
       "      <td>0</td>\n",
       "      <td>0</td>\n",
       "      <td>0</td>\n",
       "      <td>0</td>\n",
       "      <td>0</td>\n",
       "      <td>0</td>\n",
       "      <td>0</td>\n",
       "      <td>0</td>\n",
       "      <td>0</td>\n",
       "      <td>0</td>\n",
       "    </tr>\n",
       "    <tr>\n",
       "      <th>2377</th>\n",
       "      <td>34.0</td>\n",
       "      <td>1.0</td>\n",
       "      <td>0.0</td>\n",
       "      <td>12105.0</td>\n",
       "      <td>1.0</td>\n",
       "      <td>1.0</td>\n",
       "      <td>0.0</td>\n",
       "      <td>1.0</td>\n",
       "      <td>0</td>\n",
       "      <td>0</td>\n",
       "      <td>...</td>\n",
       "      <td>0</td>\n",
       "      <td>0</td>\n",
       "      <td>0</td>\n",
       "      <td>0</td>\n",
       "      <td>0</td>\n",
       "      <td>0</td>\n",
       "      <td>0</td>\n",
       "      <td>0</td>\n",
       "      <td>0</td>\n",
       "      <td>1</td>\n",
       "    </tr>\n",
       "    <tr>\n",
       "      <th>2378</th>\n",
       "      <td>45.0</td>\n",
       "      <td>0.0</td>\n",
       "      <td>0.0</td>\n",
       "      <td>35370.0</td>\n",
       "      <td>2.0</td>\n",
       "      <td>2.0</td>\n",
       "      <td>2815090.0</td>\n",
       "      <td>1.0</td>\n",
       "      <td>0</td>\n",
       "      <td>0</td>\n",
       "      <td>...</td>\n",
       "      <td>0</td>\n",
       "      <td>0</td>\n",
       "      <td>0</td>\n",
       "      <td>0</td>\n",
       "      <td>0</td>\n",
       "      <td>0</td>\n",
       "      <td>0</td>\n",
       "      <td>0</td>\n",
       "      <td>0</td>\n",
       "      <td>0</td>\n",
       "    </tr>\n",
       "    <tr>\n",
       "      <th>2379</th>\n",
       "      <td>28.0</td>\n",
       "      <td>1.0</td>\n",
       "      <td>2.0</td>\n",
       "      <td>69498.0</td>\n",
       "      <td>1.0</td>\n",
       "      <td>1.0</td>\n",
       "      <td>977830.0</td>\n",
       "      <td>1.0</td>\n",
       "      <td>0</td>\n",
       "      <td>0</td>\n",
       "      <td>...</td>\n",
       "      <td>0</td>\n",
       "      <td>0</td>\n",
       "      <td>0</td>\n",
       "      <td>0</td>\n",
       "      <td>0</td>\n",
       "      <td>0</td>\n",
       "      <td>0</td>\n",
       "      <td>0</td>\n",
       "      <td>0</td>\n",
       "      <td>0</td>\n",
       "    </tr>\n",
       "    <tr>\n",
       "      <th>2380</th>\n",
       "      <td>30.0</td>\n",
       "      <td>0.0</td>\n",
       "      <td>2.0</td>\n",
       "      <td>70254.0</td>\n",
       "      <td>2.0</td>\n",
       "      <td>2.0</td>\n",
       "      <td>2298240.0</td>\n",
       "      <td>2.0</td>\n",
       "      <td>0</td>\n",
       "      <td>0</td>\n",
       "      <td>...</td>\n",
       "      <td>1</td>\n",
       "      <td>0</td>\n",
       "      <td>0</td>\n",
       "      <td>0</td>\n",
       "      <td>0</td>\n",
       "      <td>0</td>\n",
       "      <td>0</td>\n",
       "      <td>0</td>\n",
       "      <td>0</td>\n",
       "      <td>0</td>\n",
       "    </tr>\n",
       "  </tbody>\n",
       "</table>\n",
       "<p>2381 rows × 39 columns</p>\n",
       "</div>"
      ],
      "text/plain": [
       "       Age  Gender  Education_Level   Income  Joining Designation  Grade  \\\n",
       "0     28.0     0.0              2.0  57387.0                  1.0    1.0   \n",
       "1     31.0     0.0              2.0  67016.0                  2.0    2.0   \n",
       "2     43.0     0.0              2.0  65603.0                  2.0    2.0   \n",
       "3     29.0     0.0              0.0  46368.0                  1.0    1.0   \n",
       "4     31.0     1.0              1.0  78728.0                  3.0    3.0   \n",
       "...    ...     ...              ...      ...                  ...    ...   \n",
       "2376  34.0     0.0              0.0  82815.0                  2.0    3.0   \n",
       "2377  34.0     1.0              0.0  12105.0                  1.0    1.0   \n",
       "2378  45.0     0.0              0.0  35370.0                  2.0    2.0   \n",
       "2379  28.0     1.0              2.0  69498.0                  1.0    1.0   \n",
       "2380  30.0     0.0              2.0  70254.0                  2.0    2.0   \n",
       "\n",
       "      Total Business Value  Quarterly Rating  rating_increased  \\\n",
       "0                1715580.0               2.0                 0   \n",
       "1                      0.0               1.0                 0   \n",
       "2                 350000.0               1.0                 1   \n",
       "3                 120360.0               1.0                 0   \n",
       "4                1265000.0               2.0                 0   \n",
       "...                    ...               ...               ...   \n",
       "2376            21748820.0               4.0                 0   \n",
       "2377                   0.0               1.0                 0   \n",
       "2378             2815090.0               1.0                 0   \n",
       "2379              977830.0               1.0                 0   \n",
       "2380             2298240.0               2.0                 0   \n",
       "\n",
       "      income_increased  ...  City_C27  City_C28  City_C29  City_C3  City_C4  \\\n",
       "0                    0  ...         0         0         0        0        0   \n",
       "1                    0  ...         0         0         0        0        0   \n",
       "2                    0  ...         0         0         0        0        0   \n",
       "3                    0  ...         0         0         0        0        0   \n",
       "4                    0  ...         0         0         0        0        0   \n",
       "...                ...  ...       ...       ...       ...      ...      ...   \n",
       "2376                 0  ...         0         0         0        0        0   \n",
       "2377                 0  ...         0         0         0        0        0   \n",
       "2378                 0  ...         0         0         0        0        0   \n",
       "2379                 0  ...         0         0         0        0        0   \n",
       "2380                 0  ...         1         0         0        0        0   \n",
       "\n",
       "      City_C5  City_C6  City_C7  City_C8  City_C9  \n",
       "0           0        0        0        0        0  \n",
       "1           0        0        1        0        0  \n",
       "2           0        0        0        0        0  \n",
       "3           0        0        0        0        1  \n",
       "4           0        0        0        0        0  \n",
       "...       ...      ...      ...      ...      ...  \n",
       "2376        0        0        0        0        0  \n",
       "2377        0        0        0        0        1  \n",
       "2378        0        0        0        0        0  \n",
       "2379        0        0        0        0        0  \n",
       "2380        0        0        0        0        0  \n",
       "\n",
       "[2381 rows x 39 columns]"
      ]
     },
     "execution_count": 36,
     "metadata": {},
     "output_type": "execute_result"
    }
   ],
   "source": [
    "df"
   ]
  },
  {
   "cell_type": "code",
   "execution_count": 37,
   "id": "b0a3190c",
   "metadata": {},
   "outputs": [],
   "source": [
    "X_cols = df.columns"
   ]
  },
  {
   "cell_type": "code",
   "execution_count": 38,
   "id": "1f39e2ef",
   "metadata": {},
   "outputs": [
    {
     "data": {
      "text/plain": [
       "Index(['Age', 'Gender', 'Education_Level', 'Income', 'Joining Designation',\n",
       "       'Grade', 'Total Business Value', 'Quarterly Rating', 'rating_increased',\n",
       "       'income_increased', 'City_C1', 'City_C10', 'City_C11', 'City_C12',\n",
       "       'City_C13', 'City_C14', 'City_C15', 'City_C16', 'City_C17', 'City_C18',\n",
       "       'City_C19', 'City_C2', 'City_C20', 'City_C21', 'City_C22', 'City_C23',\n",
       "       'City_C24', 'City_C25', 'City_C26', 'City_C27', 'City_C28', 'City_C29',\n",
       "       'City_C3', 'City_C4', 'City_C5', 'City_C6', 'City_C7', 'City_C8',\n",
       "       'City_C9'],\n",
       "      dtype='object')"
      ]
     },
     "execution_count": 38,
     "metadata": {},
     "output_type": "execute_result"
    }
   ],
   "source": [
    "X_cols"
   ]
  },
  {
   "cell_type": "markdown",
   "id": "a27d9d26",
   "metadata": {},
   "source": [
    "# 9 & 10) Class Imbalance Treatment and  Standardization of training data\n",
    "\n"
   ]
  },
  {
   "cell_type": "code",
   "execution_count": 39,
   "id": "908f344a",
   "metadata": {},
   "outputs": [
    {
     "data": {
      "text/plain": [
       "1    0.678706\n",
       "0    0.321294\n",
       "Name: Target, dtype: float64"
      ]
     },
     "execution_count": 39,
     "metadata": {},
     "output_type": "execute_result"
    }
   ],
   "source": [
    "ola_df['Target'].value_counts(normalize=True)"
   ]
  },
  {
   "cell_type": "code",
   "execution_count": 40,
   "id": "76e5877c",
   "metadata": {},
   "outputs": [],
   "source": [
    "from sklearn.preprocessing import MinMaxScaler\n",
    "\n",
    "scaler = MinMaxScaler()\n",
    "\n",
    "X=scaler.fit_transform(df)"
   ]
  },
  {
   "cell_type": "code",
   "execution_count": 41,
   "id": "b264d509",
   "metadata": {},
   "outputs": [],
   "source": [
    "#!pip install im"
   ]
  },
  {
   "cell_type": "code",
   "execution_count": 42,
   "id": "affec266",
   "metadata": {},
   "outputs": [],
   "source": [
    "from imblearn.over_sampling import SMOTE\n",
    "from sklearn.model_selection import train_test_split\n",
    "\n",
    "y = ola_df['Target']\n",
    "\n",
    "X_train,X_test,y_train,y_test = train_test_split(X,y,test_size=0.2,random_state=101)\n",
    "smote = SMOTE(random_state=42)\n",
    "X_train_resampled, y_train_resampled = smote.fit_resample(X_train, y_train)"
   ]
  },
  {
   "cell_type": "markdown",
   "id": "233a5d58",
   "metadata": {},
   "source": [
    "# 11) Using Ensemble learning - Bagging, Boosting methods with some hyper-parameter tuning\n"
   ]
  },
  {
   "cell_type": "code",
   "execution_count": null,
   "id": "53de0e47",
   "metadata": {},
   "outputs": [],
   "source": []
  },
  {
   "cell_type": "code",
   "execution_count": 43,
   "id": "a989cf9c",
   "metadata": {},
   "outputs": [
    {
     "name": "stdout",
     "output_type": "stream",
     "text": [
      "Best parameters are : {'max_depth': 8, 'n_estimators': 150}\n",
      "The score is : 0.8457181536002848\n",
      "              precision    recall  f1-score   support\n",
      "\n",
      "           0       0.71      0.56      0.63       156\n",
      "           1       0.81      0.89      0.85       321\n",
      "\n",
      "    accuracy                           0.78       477\n",
      "   macro avg       0.76      0.72      0.74       477\n",
      "weighted avg       0.78      0.78      0.77       477\n",
      "\n",
      "[[ 87  69]\n",
      " [ 35 286]]\n"
     ]
    }
   ],
   "source": [
    "from sklearn.ensemble import RandomForestClassifier\n",
    "from sklearn.metrics import accuracy_score\n",
    "from sklearn.model_selection import GridSearchCV\n",
    "from sklearn.metrics import classification_report, confusion_matrix\n",
    "\n",
    "param = {'max_depth':[6,7,8], 'n_estimators':[100,150,200]}\n",
    "\n",
    "random_forest = RandomForestClassifier()\n",
    "\n",
    "c = GridSearchCV(random_forest,param,cv=3,scoring='f1')\n",
    "c.fit(X_train_resampled,y_train_resampled)\n",
    "\n",
    "def display(results):\n",
    "    print(f'Best parameters are : {results.best_params_}')\n",
    "    print(f'The score is : {results.best_score_}')\n",
    "display(c)\n",
    "y_pred_1 = c.predict(X_test)\n",
    "\n",
    "print(classification_report(y_test, y_pred_1))\n",
    "cm = confusion_matrix(y_test, y_pred_1)\n",
    "print(cm)"
   ]
  },
  {
   "cell_type": "code",
   "execution_count": 44,
   "id": "088e1cc7",
   "metadata": {},
   "outputs": [
    {
     "name": "stdout",
     "output_type": "stream",
     "text": [
      "Best parameters are : {'max_depth': 8, 'n_estimators': 100}\n",
      "The score is : 0.832073970261671\n",
      "              precision    recall  f1-score   support\n",
      "\n",
      "           0       0.69      0.60      0.64       156\n",
      "           1       0.82      0.87      0.84       321\n",
      "\n",
      "    accuracy                           0.78       477\n",
      "   macro avg       0.75      0.73      0.74       477\n",
      "weighted avg       0.77      0.78      0.78       477\n",
      "\n",
      "[[ 93  63]\n",
      " [ 42 279]]\n"
     ]
    }
   ],
   "source": [
    "import xgboost as xgb\n",
    "xgboost = xgb.XGBClassifier()\n",
    "\n",
    "c1 = GridSearchCV(xgboost,param,cv=3,scoring='f1')\n",
    "c1.fit(X_train_resampled,y_train_resampled)\n",
    "\n",
    "param = {'max_depth':[3,4,5], 'n_estimators':[50,100,150]}\n",
    "def display(results):\n",
    "    print(f'Best parameters are : {results.best_params_}')\n",
    "    print(f'The score is : {results.best_score_}')\n",
    "display(c1)\n",
    "y_pred_2 = c1.predict(X_test)\n",
    "\n",
    "print(classification_report(y_test, y_pred_2))\n",
    "cm1 = confusion_matrix(y_test, y_pred_2)\n",
    "print(cm1)"
   ]
  },
  {
   "cell_type": "code",
   "execution_count": null,
   "id": "52066673",
   "metadata": {},
   "outputs": [],
   "source": []
  },
  {
   "cell_type": "markdown",
   "id": "8401d2b6",
   "metadata": {},
   "source": [
    "# 12) Results Evaluation:\n",
    "\n",
    "\n",
    "\n"
   ]
  },
  {
   "cell_type": "markdown",
   "id": "229ebf89",
   "metadata": {},
   "source": [
    "#### 12.1 Classification Report\n"
   ]
  },
  {
   "cell_type": "code",
   "execution_count": 45,
   "id": "b308d49d",
   "metadata": {},
   "outputs": [
    {
     "name": "stdout",
     "output_type": "stream",
     "text": [
      "Precision: 0.8056\n",
      "Recall: 0.8910\n",
      "Specificity: 0.5577\n",
      "F1 Score: 0.8462\n"
     ]
    }
   ],
   "source": [
    "from sklearn.metrics import precision_score, recall_score, f1_score, confusion_matrix\n",
    "\n",
    "precision = precision_score(y_test, y_pred_1)\n",
    "print(f\"Precision: {precision:.4f}\")\n",
    "\n",
    "recall = recall_score(y_test, y_pred_1)\n",
    "print(f\"Recall: {recall:.4f}\")\n",
    "\n",
    "tn, fp, fn, tp = confusion_matrix(y_test, y_pred_1).ravel()\n",
    "specificity = tn / (tn + fp)\n",
    "print(f\"Specificity: {specificity:.4f}\")\n",
    "\n",
    "# F1 Score\n",
    "f1 = f1_score(y_test, y_pred_1)\n",
    "print(f\"F1 Score: {f1:.4f}\")\n"
   ]
  },
  {
   "cell_type": "code",
   "execution_count": 46,
   "id": "418c5f67",
   "metadata": {},
   "outputs": [
    {
     "name": "stdout",
     "output_type": "stream",
     "text": [
      "Precision: 0.8158\n",
      "Recall: 0.8692\n",
      "Specificity: 0.5962\n",
      "F1 Score: 0.8416\n"
     ]
    }
   ],
   "source": [
    "from sklearn.metrics import precision_score, recall_score, f1_score, confusion_matrix\n",
    "\n",
    "precision = precision_score(y_test, y_pred_2)\n",
    "print(f\"Precision: {precision:.4f}\")\n",
    "\n",
    "recall = recall_score(y_test, y_pred_2)\n",
    "print(f\"Recall: {recall:.4f}\")\n",
    "\n",
    "tn, fp, fn, tp = confusion_matrix(y_test, y_pred_2).ravel()\n",
    "specificity = tn / (tn + fp)\n",
    "print(f\"Specificity: {specificity:.4f}\")\n",
    "\n",
    "# F1 Score\n",
    "f1 = f1_score(y_test, y_pred_2)\n",
    "print(f\"F1 Score: {f1:.4f}\")\n"
   ]
  },
  {
   "cell_type": "markdown",
   "id": "2cbd5136",
   "metadata": {},
   "source": [
    "#### 12.2 ROC AUC curve"
   ]
  },
  {
   "cell_type": "code",
   "execution_count": 47,
   "id": "6808340b",
   "metadata": {},
   "outputs": [
    {
     "data": {
      "image/png": "[encoded data removed]",
      "text/plain": [
       "<Figure size 800x600 with 1 Axes>"
      ]
     },
     "metadata": {},
     "output_type": "display_data"
    }
   ],
   "source": [
    "from sklearn.metrics import roc_curve, auc\n",
    "y_probs = c.predict_proba(X_test)[:, 1]\n",
    "\n",
    "fpr, tpr, thresholds = roc_curve(y_test, y_probs)\n",
    "roc_auc = auc(fpr, tpr)\n",
    "\n",
    "plt.figure(figsize=(8, 6))\n",
    "plt.plot(fpr, tpr, color='darkorange', lw=2, label=f'ROC curve (AUC = {roc_auc:.2f})')\n",
    "plt.plot([0, 1], [0, 1], color='navy', lw=2, linestyle='--', label='Random Guess')\n",
    "plt.xlabel('False Positive Rate')\n",
    "plt.ylabel('True Positive Rate (Sensitivity)')\n",
    "plt.title('Receiver Operating Characteristic (ROC) Curve')\n",
    "plt.legend(loc='lower right')\n",
    "\n",
    "plt.show()"
   ]
  },
  {
   "cell_type": "code",
   "execution_count": 48,
   "id": "4b4434f8",
   "metadata": {},
   "outputs": [
    {
     "data": {
      "image/png": "[encoded data removed]",
      "text/plain": [
       "<Figure size 800x600 with 1 Axes>"
      ]
     },
     "metadata": {},
     "output_type": "display_data"
    }
   ],
   "source": [
    "from sklearn.metrics import roc_curve, auc\n",
    "y_probs = c1.predict_proba(X_test)[:, 1]\n",
    "\n",
    "fpr, tpr, thresholds = roc_curve(y_test, y_probs)\n",
    "roc_auc = auc(fpr, tpr)\n",
    "\n",
    "plt.figure(figsize=(8, 6))\n",
    "plt.plot(fpr, tpr, color='darkorange', lw=2, label=f'ROC curve (AUC = {roc_auc:.2f})')\n",
    "plt.plot([0, 1], [0, 1], color='navy', lw=2, linestyle='--', label='Random Guess')\n",
    "plt.xlabel('False Positive Rate')\n",
    "plt.ylabel('True Positive Rate (Sensitivity)')\n",
    "plt.title('Receiver Operating Characteristic (ROC) Curve')\n",
    "plt.legend(loc='lower right')\n",
    "\n",
    "plt.show()"
   ]
  },
  {
   "cell_type": "markdown",
   "id": "cfe3cb40",
   "metadata": {},
   "source": [
    "For Churn Prediction AUC = 0.8 indicates it as a good model"
   ]
  },
  {
   "cell_type": "markdown",
   "id": "92e0ba8e",
   "metadata": {},
   "source": [
    "# 13) Provide actionable Insights & Recommendations"
   ]
  },
  {
   "cell_type": "markdown",
   "id": "7b1caf7b",
   "metadata": {},
   "source": [
    "We can consider increasing the payment of Drivers, but it depends on the observation of driver activities "
   ]
  },
  {
   "cell_type": "markdown",
   "id": "f434b1a3",
   "metadata": {},
   "source": [
    "Driver ratings seems to be the same for every quarter, encouraging the customers to give good ratings and considering this factor to increase the income of drivers will be a good idea\n"
   ]
  },
  {
   "cell_type": "markdown",
   "id": "be972112",
   "metadata": {},
   "source": [
    "Mostly youngsters between 20-35 churns addressing their issues helps in achieving an overall solution\n"
   ]
  },
  {
   "cell_type": "markdown",
   "id": "79a726cc",
   "metadata": {},
   "source": [
    "Drivers in City C20 churns more. Focusing on Situation in C20 could be helpful to obtain a common solution"
   ]
  },
  {
   "cell_type": "markdown",
   "id": "f88e2055",
   "metadata": {},
   "source": [
    "At last low income drivers, if the payments are based on the % on # of rides per month, then understanding what causes the drivers to drop a ride without attending could help to derive a common solution."
   ]
  },
  {
   "cell_type": "code",
   "execution_count": 49,
   "id": "7d15309e",
   "metadata": {},
   "outputs": [],
   "source": [
    "import pickle"
   ]
  },
  {
   "cell_type": "code",
   "execution_count": 50,
   "id": "4bcc3556",
   "metadata": {},
   "outputs": [],
   "source": [
    "filename = 'driver_churn.sav'\n",
    "pickle.dump(c, open(filename, 'wb'))"
   ]
  },
  {
   "cell_type": "code",
   "execution_count": 51,
   "id": "3ff62a5a",
   "metadata": {},
   "outputs": [
    {
     "data": {
      "text/plain": [
       "29"
      ]
     },
     "execution_count": 51,
     "metadata": {},
     "output_type": "execute_result"
    }
   ],
   "source": [
    "len(['C1','C2','C3','C4','C5','C6','C7','C8','C9','C10','C11','C12','C13','C14','C15','C16','C17',\n",
    " 'C18','C19','C20','C21','C22','C23','C24','C25','C26','C27','C28','C29'])\n"
   ]
  },
  {
   "cell_type": "code",
   "execution_count": 52,
   "id": "6512e74d",
   "metadata": {},
   "outputs": [
    {
     "name": "stdout",
     "output_type": "stream",
     "text": [
      "1.2.2\n"
     ]
    }
   ],
   "source": [
    "import sklearn\n",
    "print(sklearn.__version__)"
   ]
  },
  {
   "cell_type": "code",
   "execution_count": 53,
   "id": "316edd75",
   "metadata": {},
   "outputs": [],
   "source": [
    "#!pip3 install  scikit-learn==1.2.2\n",
    "#pip3 install --upgrade --force-reinstall imbalanced-learn\n"
   ]
  }
 ],
 "metadata": {
  "kernelspec": {
   "display_name": "Python 3 (ipykernel)",
   "language": "python",
   "name": "python3"
  },
  "language_info": {
   "codemirror_mode": {
    "name": "ipython",
    "version": 3
   },
   "file_extension": ".py",
   "mimetype": "text/x-python",
   "name": "python",
   "nbconvert_exporter": "python",
   "pygments_lexer": "ipython3",
   "version": "3.11.3"
  }
 },
 "nbformat": 4,
 "nbformat_minor": 5
}
